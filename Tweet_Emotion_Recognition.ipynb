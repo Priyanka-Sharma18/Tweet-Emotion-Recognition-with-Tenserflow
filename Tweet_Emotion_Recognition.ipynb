{
  "nbformat": 4,
  "nbformat_minor": 0,
  "metadata": {
    "accelerator": "GPU",
    "colab": {
      "name": "Tweet Emotion Recognition.ipynb",
      "provenance": [],
      "collapsed_sections": [],
      "include_colab_link": true
    },
    "kernelspec": {
      "display_name": "Python 3",
      "language": "python",
      "name": "python3"
    },
    "language_info": {
      "codemirror_mode": {
        "name": "ipython",
        "version": 3
      },
      "file_extension": ".py",
      "mimetype": "text/x-python",
      "name": "python",
      "nbconvert_exporter": "python",
      "pygments_lexer": "ipython3",
      "version": "3.8.3"
    },
    "widgets": {
      "application/vnd.jupyter.widget-state+json": {
        "055350b74a7149539b3157711a4d5d02": {
          "model_module": "@jupyter-widgets/controls",
          "model_name": "HBoxModel",
          "model_module_version": "1.5.0",
          "state": {
            "_view_name": "HBoxView",
            "_dom_classes": [],
            "_model_name": "HBoxModel",
            "_view_module": "@jupyter-widgets/controls",
            "_model_module_version": "1.5.0",
            "_view_count": null,
            "_view_module_version": "1.5.0",
            "box_style": "",
            "layout": "IPY_MODEL_879069f61a504966b19ec2f23fef40ed",
            "_model_module": "@jupyter-widgets/controls",
            "children": [
              "IPY_MODEL_e42369c6c28c44c8b5e2a27fce27ee88",
              "IPY_MODEL_eac5a8b896024e51bb4255b80cb93571",
              "IPY_MODEL_9b9ac889f6fd48ed855338f4205dd50e"
            ]
          }
        },
        "879069f61a504966b19ec2f23fef40ed": {
          "model_module": "@jupyter-widgets/base",
          "model_name": "LayoutModel",
          "model_module_version": "1.2.0",
          "state": {
            "_view_name": "LayoutView",
            "grid_template_rows": null,
            "right": null,
            "justify_content": null,
            "_view_module": "@jupyter-widgets/base",
            "overflow": null,
            "_model_module_version": "1.2.0",
            "_view_count": null,
            "flex_flow": null,
            "width": null,
            "min_width": null,
            "border": null,
            "align_items": null,
            "bottom": null,
            "_model_module": "@jupyter-widgets/base",
            "top": null,
            "grid_column": null,
            "overflow_y": null,
            "overflow_x": null,
            "grid_auto_flow": null,
            "grid_area": null,
            "grid_template_columns": null,
            "flex": null,
            "_model_name": "LayoutModel",
            "justify_items": null,
            "grid_row": null,
            "max_height": null,
            "align_content": null,
            "visibility": null,
            "align_self": null,
            "height": null,
            "min_height": null,
            "padding": null,
            "grid_auto_rows": null,
            "grid_gap": null,
            "max_width": null,
            "order": null,
            "_view_module_version": "1.2.0",
            "grid_template_areas": null,
            "object_position": null,
            "object_fit": null,
            "grid_auto_columns": null,
            "margin": null,
            "display": null,
            "left": null
          }
        },
        "e42369c6c28c44c8b5e2a27fce27ee88": {
          "model_module": "@jupyter-widgets/controls",
          "model_name": "HTMLModel",
          "model_module_version": "1.5.0",
          "state": {
            "_view_name": "HTMLView",
            "style": "IPY_MODEL_3f340cd5265042f3bb0a5a17d289f1e8",
            "_dom_classes": [],
            "description": "",
            "_model_name": "HTMLModel",
            "placeholder": "​",
            "_view_module": "@jupyter-widgets/controls",
            "_model_module_version": "1.5.0",
            "value": "Downloading: 100%",
            "_view_count": null,
            "_view_module_version": "1.5.0",
            "description_tooltip": null,
            "_model_module": "@jupyter-widgets/controls",
            "layout": "IPY_MODEL_ed313d73cd7d41308c510d4b6660e659"
          }
        },
        "eac5a8b896024e51bb4255b80cb93571": {
          "model_module": "@jupyter-widgets/controls",
          "model_name": "FloatProgressModel",
          "model_module_version": "1.5.0",
          "state": {
            "_view_name": "ProgressView",
            "style": "IPY_MODEL_637b4d7b592c4b01956877bf87401517",
            "_dom_classes": [],
            "description": "",
            "_model_name": "FloatProgressModel",
            "bar_style": "success",
            "max": 3406,
            "_view_module": "@jupyter-widgets/controls",
            "_model_module_version": "1.5.0",
            "value": 3406,
            "_view_count": null,
            "_view_module_version": "1.5.0",
            "orientation": "horizontal",
            "min": 0,
            "description_tooltip": null,
            "_model_module": "@jupyter-widgets/controls",
            "layout": "IPY_MODEL_f11cdefe19e6400ba8ec65ca8cdec4be"
          }
        },
        "9b9ac889f6fd48ed855338f4205dd50e": {
          "model_module": "@jupyter-widgets/controls",
          "model_name": "HTMLModel",
          "model_module_version": "1.5.0",
          "state": {
            "_view_name": "HTMLView",
            "style": "IPY_MODEL_ba862285be1247009c7fa008e5dcbce5",
            "_dom_classes": [],
            "description": "",
            "_model_name": "HTMLModel",
            "placeholder": "​",
            "_view_module": "@jupyter-widgets/controls",
            "_model_module_version": "1.5.0",
            "value": " 3.41k/3.41k [00:00&lt;00:00, 64.2kB/s]",
            "_view_count": null,
            "_view_module_version": "1.5.0",
            "description_tooltip": null,
            "_model_module": "@jupyter-widgets/controls",
            "layout": "IPY_MODEL_540e6b61d90d48968b2a4d33cc4bc3b2"
          }
        },
        "3f340cd5265042f3bb0a5a17d289f1e8": {
          "model_module": "@jupyter-widgets/controls",
          "model_name": "DescriptionStyleModel",
          "model_module_version": "1.5.0",
          "state": {
            "_view_name": "StyleView",
            "_model_name": "DescriptionStyleModel",
            "description_width": "",
            "_view_module": "@jupyter-widgets/base",
            "_model_module_version": "1.5.0",
            "_view_count": null,
            "_view_module_version": "1.2.0",
            "_model_module": "@jupyter-widgets/controls"
          }
        },
        "ed313d73cd7d41308c510d4b6660e659": {
          "model_module": "@jupyter-widgets/base",
          "model_name": "LayoutModel",
          "model_module_version": "1.2.0",
          "state": {
            "_view_name": "LayoutView",
            "grid_template_rows": null,
            "right": null,
            "justify_content": null,
            "_view_module": "@jupyter-widgets/base",
            "overflow": null,
            "_model_module_version": "1.2.0",
            "_view_count": null,
            "flex_flow": null,
            "width": null,
            "min_width": null,
            "border": null,
            "align_items": null,
            "bottom": null,
            "_model_module": "@jupyter-widgets/base",
            "top": null,
            "grid_column": null,
            "overflow_y": null,
            "overflow_x": null,
            "grid_auto_flow": null,
            "grid_area": null,
            "grid_template_columns": null,
            "flex": null,
            "_model_name": "LayoutModel",
            "justify_items": null,
            "grid_row": null,
            "max_height": null,
            "align_content": null,
            "visibility": null,
            "align_self": null,
            "height": null,
            "min_height": null,
            "padding": null,
            "grid_auto_rows": null,
            "grid_gap": null,
            "max_width": null,
            "order": null,
            "_view_module_version": "1.2.0",
            "grid_template_areas": null,
            "object_position": null,
            "object_fit": null,
            "grid_auto_columns": null,
            "margin": null,
            "display": null,
            "left": null
          }
        },
        "637b4d7b592c4b01956877bf87401517": {
          "model_module": "@jupyter-widgets/controls",
          "model_name": "ProgressStyleModel",
          "model_module_version": "1.5.0",
          "state": {
            "_view_name": "StyleView",
            "_model_name": "ProgressStyleModel",
            "description_width": "",
            "_view_module": "@jupyter-widgets/base",
            "_model_module_version": "1.5.0",
            "_view_count": null,
            "_view_module_version": "1.2.0",
            "bar_color": null,
            "_model_module": "@jupyter-widgets/controls"
          }
        },
        "f11cdefe19e6400ba8ec65ca8cdec4be": {
          "model_module": "@jupyter-widgets/base",
          "model_name": "LayoutModel",
          "model_module_version": "1.2.0",
          "state": {
            "_view_name": "LayoutView",
            "grid_template_rows": null,
            "right": null,
            "justify_content": null,
            "_view_module": "@jupyter-widgets/base",
            "overflow": null,
            "_model_module_version": "1.2.0",
            "_view_count": null,
            "flex_flow": null,
            "width": null,
            "min_width": null,
            "border": null,
            "align_items": null,
            "bottom": null,
            "_model_module": "@jupyter-widgets/base",
            "top": null,
            "grid_column": null,
            "overflow_y": null,
            "overflow_x": null,
            "grid_auto_flow": null,
            "grid_area": null,
            "grid_template_columns": null,
            "flex": null,
            "_model_name": "LayoutModel",
            "justify_items": null,
            "grid_row": null,
            "max_height": null,
            "align_content": null,
            "visibility": null,
            "align_self": null,
            "height": null,
            "min_height": null,
            "padding": null,
            "grid_auto_rows": null,
            "grid_gap": null,
            "max_width": null,
            "order": null,
            "_view_module_version": "1.2.0",
            "grid_template_areas": null,
            "object_position": null,
            "object_fit": null,
            "grid_auto_columns": null,
            "margin": null,
            "display": null,
            "left": null
          }
        },
        "ba862285be1247009c7fa008e5dcbce5": {
          "model_module": "@jupyter-widgets/controls",
          "model_name": "DescriptionStyleModel",
          "model_module_version": "1.5.0",
          "state": {
            "_view_name": "StyleView",
            "_model_name": "DescriptionStyleModel",
            "description_width": "",
            "_view_module": "@jupyter-widgets/base",
            "_model_module_version": "1.5.0",
            "_view_count": null,
            "_view_module_version": "1.2.0",
            "_model_module": "@jupyter-widgets/controls"
          }
        },
        "540e6b61d90d48968b2a4d33cc4bc3b2": {
          "model_module": "@jupyter-widgets/base",
          "model_name": "LayoutModel",
          "model_module_version": "1.2.0",
          "state": {
            "_view_name": "LayoutView",
            "grid_template_rows": null,
            "right": null,
            "justify_content": null,
            "_view_module": "@jupyter-widgets/base",
            "overflow": null,
            "_model_module_version": "1.2.0",
            "_view_count": null,
            "flex_flow": null,
            "width": null,
            "min_width": null,
            "border": null,
            "align_items": null,
            "bottom": null,
            "_model_module": "@jupyter-widgets/base",
            "top": null,
            "grid_column": null,
            "overflow_y": null,
            "overflow_x": null,
            "grid_auto_flow": null,
            "grid_area": null,
            "grid_template_columns": null,
            "flex": null,
            "_model_name": "LayoutModel",
            "justify_items": null,
            "grid_row": null,
            "max_height": null,
            "align_content": null,
            "visibility": null,
            "align_self": null,
            "height": null,
            "min_height": null,
            "padding": null,
            "grid_auto_rows": null,
            "grid_gap": null,
            "max_width": null,
            "order": null,
            "_view_module_version": "1.2.0",
            "grid_template_areas": null,
            "object_position": null,
            "object_fit": null,
            "grid_auto_columns": null,
            "margin": null,
            "display": null,
            "left": null
          }
        },
        "5c941e6bdc1c44bea51488a90a2e7586": {
          "model_module": "@jupyter-widgets/controls",
          "model_name": "HBoxModel",
          "model_module_version": "1.5.0",
          "state": {
            "_view_name": "HBoxView",
            "_dom_classes": [],
            "_model_name": "HBoxModel",
            "_view_module": "@jupyter-widgets/controls",
            "_model_module_version": "1.5.0",
            "_view_count": null,
            "_view_module_version": "1.5.0",
            "box_style": "",
            "layout": "IPY_MODEL_79133e29a6844baea29c0d49f784047a",
            "_model_module": "@jupyter-widgets/controls",
            "children": [
              "IPY_MODEL_45f0fd7b4be246509e83217c888740ff",
              "IPY_MODEL_82d34eb50014431d9449adf9ec6f3a3f",
              "IPY_MODEL_c3e8f4eab53849d086d9310cf9dba17c"
            ]
          }
        },
        "79133e29a6844baea29c0d49f784047a": {
          "model_module": "@jupyter-widgets/base",
          "model_name": "LayoutModel",
          "model_module_version": "1.2.0",
          "state": {
            "_view_name": "LayoutView",
            "grid_template_rows": null,
            "right": null,
            "justify_content": null,
            "_view_module": "@jupyter-widgets/base",
            "overflow": null,
            "_model_module_version": "1.2.0",
            "_view_count": null,
            "flex_flow": null,
            "width": null,
            "min_width": null,
            "border": null,
            "align_items": null,
            "bottom": null,
            "_model_module": "@jupyter-widgets/base",
            "top": null,
            "grid_column": null,
            "overflow_y": null,
            "overflow_x": null,
            "grid_auto_flow": null,
            "grid_area": null,
            "grid_template_columns": null,
            "flex": null,
            "_model_name": "LayoutModel",
            "justify_items": null,
            "grid_row": null,
            "max_height": null,
            "align_content": null,
            "visibility": null,
            "align_self": null,
            "height": null,
            "min_height": null,
            "padding": null,
            "grid_auto_rows": null,
            "grid_gap": null,
            "max_width": null,
            "order": null,
            "_view_module_version": "1.2.0",
            "grid_template_areas": null,
            "object_position": null,
            "object_fit": null,
            "grid_auto_columns": null,
            "margin": null,
            "display": null,
            "left": null
          }
        },
        "45f0fd7b4be246509e83217c888740ff": {
          "model_module": "@jupyter-widgets/controls",
          "model_name": "HTMLModel",
          "model_module_version": "1.5.0",
          "state": {
            "_view_name": "HTMLView",
            "style": "IPY_MODEL_af00c82d6394491dbdb97ab3dfff651d",
            "_dom_classes": [],
            "description": "",
            "_model_name": "HTMLModel",
            "placeholder": "​",
            "_view_module": "@jupyter-widgets/controls",
            "_model_module_version": "1.5.0",
            "value": "Downloading: 100%",
            "_view_count": null,
            "_view_module_version": "1.5.0",
            "description_tooltip": null,
            "_model_module": "@jupyter-widgets/controls",
            "layout": "IPY_MODEL_d13434ce9b714f8a969f9012e43a248c"
          }
        },
        "82d34eb50014431d9449adf9ec6f3a3f": {
          "model_module": "@jupyter-widgets/controls",
          "model_name": "FloatProgressModel",
          "model_module_version": "1.5.0",
          "state": {
            "_view_name": "ProgressView",
            "style": "IPY_MODEL_5a985d43177d435dbcbfb1977b2ab35a",
            "_dom_classes": [],
            "description": "",
            "_model_name": "FloatProgressModel",
            "bar_style": "success",
            "max": 6011,
            "_view_module": "@jupyter-widgets/controls",
            "_model_module_version": "1.5.0",
            "value": 6011,
            "_view_count": null,
            "_view_module_version": "1.5.0",
            "orientation": "horizontal",
            "min": 0,
            "description_tooltip": null,
            "_model_module": "@jupyter-widgets/controls",
            "layout": "IPY_MODEL_0c76a85176b54b07a6adccf638660819"
          }
        },
        "c3e8f4eab53849d086d9310cf9dba17c": {
          "model_module": "@jupyter-widgets/controls",
          "model_name": "HTMLModel",
          "model_module_version": "1.5.0",
          "state": {
            "_view_name": "HTMLView",
            "style": "IPY_MODEL_ad878bc8bda8481e85afe12bb5bf0dd1",
            "_dom_classes": [],
            "description": "",
            "_model_name": "HTMLModel",
            "placeholder": "​",
            "_view_module": "@jupyter-widgets/controls",
            "_model_module_version": "1.5.0",
            "value": " 6.01k/6.01k [00:00&lt;00:00, 103kB/s]",
            "_view_count": null,
            "_view_module_version": "1.5.0",
            "description_tooltip": null,
            "_model_module": "@jupyter-widgets/controls",
            "layout": "IPY_MODEL_970af45a47f44e798f2c5521591a024e"
          }
        },
        "af00c82d6394491dbdb97ab3dfff651d": {
          "model_module": "@jupyter-widgets/controls",
          "model_name": "DescriptionStyleModel",
          "model_module_version": "1.5.0",
          "state": {
            "_view_name": "StyleView",
            "_model_name": "DescriptionStyleModel",
            "description_width": "",
            "_view_module": "@jupyter-widgets/base",
            "_model_module_version": "1.5.0",
            "_view_count": null,
            "_view_module_version": "1.2.0",
            "_model_module": "@jupyter-widgets/controls"
          }
        },
        "d13434ce9b714f8a969f9012e43a248c": {
          "model_module": "@jupyter-widgets/base",
          "model_name": "LayoutModel",
          "model_module_version": "1.2.0",
          "state": {
            "_view_name": "LayoutView",
            "grid_template_rows": null,
            "right": null,
            "justify_content": null,
            "_view_module": "@jupyter-widgets/base",
            "overflow": null,
            "_model_module_version": "1.2.0",
            "_view_count": null,
            "flex_flow": null,
            "width": null,
            "min_width": null,
            "border": null,
            "align_items": null,
            "bottom": null,
            "_model_module": "@jupyter-widgets/base",
            "top": null,
            "grid_column": null,
            "overflow_y": null,
            "overflow_x": null,
            "grid_auto_flow": null,
            "grid_area": null,
            "grid_template_columns": null,
            "flex": null,
            "_model_name": "LayoutModel",
            "justify_items": null,
            "grid_row": null,
            "max_height": null,
            "align_content": null,
            "visibility": null,
            "align_self": null,
            "height": null,
            "min_height": null,
            "padding": null,
            "grid_auto_rows": null,
            "grid_gap": null,
            "max_width": null,
            "order": null,
            "_view_module_version": "1.2.0",
            "grid_template_areas": null,
            "object_position": null,
            "object_fit": null,
            "grid_auto_columns": null,
            "margin": null,
            "display": null,
            "left": null
          }
        },
        "5a985d43177d435dbcbfb1977b2ab35a": {
          "model_module": "@jupyter-widgets/controls",
          "model_name": "ProgressStyleModel",
          "model_module_version": "1.5.0",
          "state": {
            "_view_name": "StyleView",
            "_model_name": "ProgressStyleModel",
            "description_width": "",
            "_view_module": "@jupyter-widgets/base",
            "_model_module_version": "1.5.0",
            "_view_count": null,
            "_view_module_version": "1.2.0",
            "bar_color": null,
            "_model_module": "@jupyter-widgets/controls"
          }
        },
        "0c76a85176b54b07a6adccf638660819": {
          "model_module": "@jupyter-widgets/base",
          "model_name": "LayoutModel",
          "model_module_version": "1.2.0",
          "state": {
            "_view_name": "LayoutView",
            "grid_template_rows": null,
            "right": null,
            "justify_content": null,
            "_view_module": "@jupyter-widgets/base",
            "overflow": null,
            "_model_module_version": "1.2.0",
            "_view_count": null,
            "flex_flow": null,
            "width": null,
            "min_width": null,
            "border": null,
            "align_items": null,
            "bottom": null,
            "_model_module": "@jupyter-widgets/base",
            "top": null,
            "grid_column": null,
            "overflow_y": null,
            "overflow_x": null,
            "grid_auto_flow": null,
            "grid_area": null,
            "grid_template_columns": null,
            "flex": null,
            "_model_name": "LayoutModel",
            "justify_items": null,
            "grid_row": null,
            "max_height": null,
            "align_content": null,
            "visibility": null,
            "align_self": null,
            "height": null,
            "min_height": null,
            "padding": null,
            "grid_auto_rows": null,
            "grid_gap": null,
            "max_width": null,
            "order": null,
            "_view_module_version": "1.2.0",
            "grid_template_areas": null,
            "object_position": null,
            "object_fit": null,
            "grid_auto_columns": null,
            "margin": null,
            "display": null,
            "left": null
          }
        },
        "ad878bc8bda8481e85afe12bb5bf0dd1": {
          "model_module": "@jupyter-widgets/controls",
          "model_name": "DescriptionStyleModel",
          "model_module_version": "1.5.0",
          "state": {
            "_view_name": "StyleView",
            "_model_name": "DescriptionStyleModel",
            "description_width": "",
            "_view_module": "@jupyter-widgets/base",
            "_model_module_version": "1.5.0",
            "_view_count": null,
            "_view_module_version": "1.2.0",
            "_model_module": "@jupyter-widgets/controls"
          }
        },
        "970af45a47f44e798f2c5521591a024e": {
          "model_module": "@jupyter-widgets/base",
          "model_name": "LayoutModel",
          "model_module_version": "1.2.0",
          "state": {
            "_view_name": "LayoutView",
            "grid_template_rows": null,
            "right": null,
            "justify_content": null,
            "_view_module": "@jupyter-widgets/base",
            "overflow": null,
            "_model_module_version": "1.2.0",
            "_view_count": null,
            "flex_flow": null,
            "width": null,
            "min_width": null,
            "border": null,
            "align_items": null,
            "bottom": null,
            "_model_module": "@jupyter-widgets/base",
            "top": null,
            "grid_column": null,
            "overflow_y": null,
            "overflow_x": null,
            "grid_auto_flow": null,
            "grid_area": null,
            "grid_template_columns": null,
            "flex": null,
            "_model_name": "LayoutModel",
            "justify_items": null,
            "grid_row": null,
            "max_height": null,
            "align_content": null,
            "visibility": null,
            "align_self": null,
            "height": null,
            "min_height": null,
            "padding": null,
            "grid_auto_rows": null,
            "grid_gap": null,
            "max_width": null,
            "order": null,
            "_view_module_version": "1.2.0",
            "grid_template_areas": null,
            "object_position": null,
            "object_fit": null,
            "grid_auto_columns": null,
            "margin": null,
            "display": null,
            "left": null
          }
        },
        "508c6627290c4ffe8663154ae47948ee": {
          "model_module": "@jupyter-widgets/controls",
          "model_name": "HBoxModel",
          "model_module_version": "1.5.0",
          "state": {
            "_view_name": "HBoxView",
            "_dom_classes": [],
            "_model_name": "HBoxModel",
            "_view_module": "@jupyter-widgets/controls",
            "_model_module_version": "1.5.0",
            "_view_count": null,
            "_view_module_version": "1.5.0",
            "box_style": "",
            "layout": "IPY_MODEL_26b55db011684755a2e4fc8fd9107e26",
            "_model_module": "@jupyter-widgets/controls",
            "children": [
              "IPY_MODEL_a9af4590a62b4a5fb64220fc902e4fb2",
              "IPY_MODEL_175ec19c213f47fb9b494de107d66105",
              "IPY_MODEL_61251ca1e37349dfa15b474446122170"
            ]
          }
        },
        "26b55db011684755a2e4fc8fd9107e26": {
          "model_module": "@jupyter-widgets/base",
          "model_name": "LayoutModel",
          "model_module_version": "1.2.0",
          "state": {
            "_view_name": "LayoutView",
            "grid_template_rows": null,
            "right": null,
            "justify_content": null,
            "_view_module": "@jupyter-widgets/base",
            "overflow": null,
            "_model_module_version": "1.2.0",
            "_view_count": null,
            "flex_flow": null,
            "width": null,
            "min_width": null,
            "border": null,
            "align_items": null,
            "bottom": null,
            "_model_module": "@jupyter-widgets/base",
            "top": null,
            "grid_column": null,
            "overflow_y": null,
            "overflow_x": null,
            "grid_auto_flow": null,
            "grid_area": null,
            "grid_template_columns": null,
            "flex": null,
            "_model_name": "LayoutModel",
            "justify_items": null,
            "grid_row": null,
            "max_height": null,
            "align_content": null,
            "visibility": null,
            "align_self": null,
            "height": null,
            "min_height": null,
            "padding": null,
            "grid_auto_rows": null,
            "grid_gap": null,
            "max_width": null,
            "order": null,
            "_view_module_version": "1.2.0",
            "grid_template_areas": null,
            "object_position": null,
            "object_fit": null,
            "grid_auto_columns": null,
            "margin": null,
            "display": null,
            "left": null
          }
        },
        "a9af4590a62b4a5fb64220fc902e4fb2": {
          "model_module": "@jupyter-widgets/controls",
          "model_name": "HTMLModel",
          "model_module_version": "1.5.0",
          "state": {
            "_view_name": "HTMLView",
            "style": "IPY_MODEL_7b84391c5cee401283e77d8aa520d4b4",
            "_dom_classes": [],
            "description": "",
            "_model_name": "HTMLModel",
            "placeholder": "​",
            "_view_module": "@jupyter-widgets/controls",
            "_model_module_version": "1.5.0",
            "value": "Downloading: 100%",
            "_view_count": null,
            "_view_module_version": "1.5.0",
            "description_tooltip": null,
            "_model_module": "@jupyter-widgets/controls",
            "layout": "IPY_MODEL_155179c1674f4081b279aeb26c493dfe"
          }
        },
        "175ec19c213f47fb9b494de107d66105": {
          "model_module": "@jupyter-widgets/controls",
          "model_name": "FloatProgressModel",
          "model_module_version": "1.5.0",
          "state": {
            "_view_name": "ProgressView",
            "style": "IPY_MODEL_2683523f7fcc4241af246adb9140538a",
            "_dom_classes": [],
            "description": "",
            "_model_name": "FloatProgressModel",
            "bar_style": "success",
            "max": 1658616,
            "_view_module": "@jupyter-widgets/controls",
            "_model_module_version": "1.5.0",
            "value": 1658616,
            "_view_count": null,
            "_view_module_version": "1.5.0",
            "orientation": "horizontal",
            "min": 0,
            "description_tooltip": null,
            "_model_module": "@jupyter-widgets/controls",
            "layout": "IPY_MODEL_2d2f2b8fd0314341a0cd15d5caed8736"
          }
        },
        "61251ca1e37349dfa15b474446122170": {
          "model_module": "@jupyter-widgets/controls",
          "model_name": "HTMLModel",
          "model_module_version": "1.5.0",
          "state": {
            "_view_name": "HTMLView",
            "style": "IPY_MODEL_92a16aec736b4ed68c7f0ab27349b2ac",
            "_dom_classes": [],
            "description": "",
            "_model_name": "HTMLModel",
            "placeholder": "​",
            "_view_module": "@jupyter-widgets/controls",
            "_model_module_version": "1.5.0",
            "value": " 1.66M/1.66M [00:00&lt;00:00, 3.96MB/s]",
            "_view_count": null,
            "_view_module_version": "1.5.0",
            "description_tooltip": null,
            "_model_module": "@jupyter-widgets/controls",
            "layout": "IPY_MODEL_1c3d9e27e6c2487795f4ece1fac29904"
          }
        },
        "7b84391c5cee401283e77d8aa520d4b4": {
          "model_module": "@jupyter-widgets/controls",
          "model_name": "DescriptionStyleModel",
          "model_module_version": "1.5.0",
          "state": {
            "_view_name": "StyleView",
            "_model_name": "DescriptionStyleModel",
            "description_width": "",
            "_view_module": "@jupyter-widgets/base",
            "_model_module_version": "1.5.0",
            "_view_count": null,
            "_view_module_version": "1.2.0",
            "_model_module": "@jupyter-widgets/controls"
          }
        },
        "155179c1674f4081b279aeb26c493dfe": {
          "model_module": "@jupyter-widgets/base",
          "model_name": "LayoutModel",
          "model_module_version": "1.2.0",
          "state": {
            "_view_name": "LayoutView",
            "grid_template_rows": null,
            "right": null,
            "justify_content": null,
            "_view_module": "@jupyter-widgets/base",
            "overflow": null,
            "_model_module_version": "1.2.0",
            "_view_count": null,
            "flex_flow": null,
            "width": null,
            "min_width": null,
            "border": null,
            "align_items": null,
            "bottom": null,
            "_model_module": "@jupyter-widgets/base",
            "top": null,
            "grid_column": null,
            "overflow_y": null,
            "overflow_x": null,
            "grid_auto_flow": null,
            "grid_area": null,
            "grid_template_columns": null,
            "flex": null,
            "_model_name": "LayoutModel",
            "justify_items": null,
            "grid_row": null,
            "max_height": null,
            "align_content": null,
            "visibility": null,
            "align_self": null,
            "height": null,
            "min_height": null,
            "padding": null,
            "grid_auto_rows": null,
            "grid_gap": null,
            "max_width": null,
            "order": null,
            "_view_module_version": "1.2.0",
            "grid_template_areas": null,
            "object_position": null,
            "object_fit": null,
            "grid_auto_columns": null,
            "margin": null,
            "display": null,
            "left": null
          }
        },
        "2683523f7fcc4241af246adb9140538a": {
          "model_module": "@jupyter-widgets/controls",
          "model_name": "ProgressStyleModel",
          "model_module_version": "1.5.0",
          "state": {
            "_view_name": "StyleView",
            "_model_name": "ProgressStyleModel",
            "description_width": "",
            "_view_module": "@jupyter-widgets/base",
            "_model_module_version": "1.5.0",
            "_view_count": null,
            "_view_module_version": "1.2.0",
            "bar_color": null,
            "_model_module": "@jupyter-widgets/controls"
          }
        },
        "2d2f2b8fd0314341a0cd15d5caed8736": {
          "model_module": "@jupyter-widgets/base",
          "model_name": "LayoutModel",
          "model_module_version": "1.2.0",
          "state": {
            "_view_name": "LayoutView",
            "grid_template_rows": null,
            "right": null,
            "justify_content": null,
            "_view_module": "@jupyter-widgets/base",
            "overflow": null,
            "_model_module_version": "1.2.0",
            "_view_count": null,
            "flex_flow": null,
            "width": null,
            "min_width": null,
            "border": null,
            "align_items": null,
            "bottom": null,
            "_model_module": "@jupyter-widgets/base",
            "top": null,
            "grid_column": null,
            "overflow_y": null,
            "overflow_x": null,
            "grid_auto_flow": null,
            "grid_area": null,
            "grid_template_columns": null,
            "flex": null,
            "_model_name": "LayoutModel",
            "justify_items": null,
            "grid_row": null,
            "max_height": null,
            "align_content": null,
            "visibility": null,
            "align_self": null,
            "height": null,
            "min_height": null,
            "padding": null,
            "grid_auto_rows": null,
            "grid_gap": null,
            "max_width": null,
            "order": null,
            "_view_module_version": "1.2.0",
            "grid_template_areas": null,
            "object_position": null,
            "object_fit": null,
            "grid_auto_columns": null,
            "margin": null,
            "display": null,
            "left": null
          }
        },
        "92a16aec736b4ed68c7f0ab27349b2ac": {
          "model_module": "@jupyter-widgets/controls",
          "model_name": "DescriptionStyleModel",
          "model_module_version": "1.5.0",
          "state": {
            "_view_name": "StyleView",
            "_model_name": "DescriptionStyleModel",
            "description_width": "",
            "_view_module": "@jupyter-widgets/base",
            "_model_module_version": "1.5.0",
            "_view_count": null,
            "_view_module_version": "1.2.0",
            "_model_module": "@jupyter-widgets/controls"
          }
        },
        "1c3d9e27e6c2487795f4ece1fac29904": {
          "model_module": "@jupyter-widgets/base",
          "model_name": "LayoutModel",
          "model_module_version": "1.2.0",
          "state": {
            "_view_name": "LayoutView",
            "grid_template_rows": null,
            "right": null,
            "justify_content": null,
            "_view_module": "@jupyter-widgets/base",
            "overflow": null,
            "_model_module_version": "1.2.0",
            "_view_count": null,
            "flex_flow": null,
            "width": null,
            "min_width": null,
            "border": null,
            "align_items": null,
            "bottom": null,
            "_model_module": "@jupyter-widgets/base",
            "top": null,
            "grid_column": null,
            "overflow_y": null,
            "overflow_x": null,
            "grid_auto_flow": null,
            "grid_area": null,
            "grid_template_columns": null,
            "flex": null,
            "_model_name": "LayoutModel",
            "justify_items": null,
            "grid_row": null,
            "max_height": null,
            "align_content": null,
            "visibility": null,
            "align_self": null,
            "height": null,
            "min_height": null,
            "padding": null,
            "grid_auto_rows": null,
            "grid_gap": null,
            "max_width": null,
            "order": null,
            "_view_module_version": "1.2.0",
            "grid_template_areas": null,
            "object_position": null,
            "object_fit": null,
            "grid_auto_columns": null,
            "margin": null,
            "display": null,
            "left": null
          }
        },
        "c3c97e14f06441349b01cffb64bec7a9": {
          "model_module": "@jupyter-widgets/controls",
          "model_name": "HBoxModel",
          "model_module_version": "1.5.0",
          "state": {
            "_view_name": "HBoxView",
            "_dom_classes": [],
            "_model_name": "HBoxModel",
            "_view_module": "@jupyter-widgets/controls",
            "_model_module_version": "1.5.0",
            "_view_count": null,
            "_view_module_version": "1.5.0",
            "box_style": "",
            "layout": "IPY_MODEL_131a546ba9704563aad1b39799419fae",
            "_model_module": "@jupyter-widgets/controls",
            "children": [
              "IPY_MODEL_7cd5cc9597354eadabc8b21367268935",
              "IPY_MODEL_d32aa9e567f74347bf39621e16da4223",
              "IPY_MODEL_eb3db615c8db447b82608923ab246b0d"
            ]
          }
        },
        "131a546ba9704563aad1b39799419fae": {
          "model_module": "@jupyter-widgets/base",
          "model_name": "LayoutModel",
          "model_module_version": "1.2.0",
          "state": {
            "_view_name": "LayoutView",
            "grid_template_rows": null,
            "right": null,
            "justify_content": null,
            "_view_module": "@jupyter-widgets/base",
            "overflow": null,
            "_model_module_version": "1.2.0",
            "_view_count": null,
            "flex_flow": null,
            "width": null,
            "min_width": null,
            "border": null,
            "align_items": null,
            "bottom": null,
            "_model_module": "@jupyter-widgets/base",
            "top": null,
            "grid_column": null,
            "overflow_y": null,
            "overflow_x": null,
            "grid_auto_flow": null,
            "grid_area": null,
            "grid_template_columns": null,
            "flex": null,
            "_model_name": "LayoutModel",
            "justify_items": null,
            "grid_row": null,
            "max_height": null,
            "align_content": null,
            "visibility": null,
            "align_self": null,
            "height": null,
            "min_height": null,
            "padding": null,
            "grid_auto_rows": null,
            "grid_gap": null,
            "max_width": null,
            "order": null,
            "_view_module_version": "1.2.0",
            "grid_template_areas": null,
            "object_position": null,
            "object_fit": null,
            "grid_auto_columns": null,
            "margin": null,
            "display": null,
            "left": null
          }
        },
        "7cd5cc9597354eadabc8b21367268935": {
          "model_module": "@jupyter-widgets/controls",
          "model_name": "HTMLModel",
          "model_module_version": "1.5.0",
          "state": {
            "_view_name": "HTMLView",
            "style": "IPY_MODEL_c9db1f1d788e412da9145eb9f3a3cf93",
            "_dom_classes": [],
            "description": "",
            "_model_name": "HTMLModel",
            "placeholder": "​",
            "_view_module": "@jupyter-widgets/controls",
            "_model_module_version": "1.5.0",
            "value": "Downloading: 100%",
            "_view_count": null,
            "_view_module_version": "1.5.0",
            "description_tooltip": null,
            "_model_module": "@jupyter-widgets/controls",
            "layout": "IPY_MODEL_f6185bb18dd44778b485a2e9fd741d8e"
          }
        },
        "d32aa9e567f74347bf39621e16da4223": {
          "model_module": "@jupyter-widgets/controls",
          "model_name": "FloatProgressModel",
          "model_module_version": "1.5.0",
          "state": {
            "_view_name": "ProgressView",
            "style": "IPY_MODEL_de5c34576d874958ab8d856b55bb5f2e",
            "_dom_classes": [],
            "description": "",
            "_model_name": "FloatProgressModel",
            "bar_style": "success",
            "max": 204240,
            "_view_module": "@jupyter-widgets/controls",
            "_model_module_version": "1.5.0",
            "value": 204240,
            "_view_count": null,
            "_view_module_version": "1.5.0",
            "orientation": "horizontal",
            "min": 0,
            "description_tooltip": null,
            "_model_module": "@jupyter-widgets/controls",
            "layout": "IPY_MODEL_2140f4c615774ab5b7206721b4b96694"
          }
        },
        "eb3db615c8db447b82608923ab246b0d": {
          "model_module": "@jupyter-widgets/controls",
          "model_name": "HTMLModel",
          "model_module_version": "1.5.0",
          "state": {
            "_view_name": "HTMLView",
            "style": "IPY_MODEL_875b1fd0e90e4bd198151da63b2283f6",
            "_dom_classes": [],
            "description": "",
            "_model_name": "HTMLModel",
            "placeholder": "​",
            "_view_module": "@jupyter-widgets/controls",
            "_model_module_version": "1.5.0",
            "value": " 204k/204k [00:00&lt;00:00, 522kB/s]",
            "_view_count": null,
            "_view_module_version": "1.5.0",
            "description_tooltip": null,
            "_model_module": "@jupyter-widgets/controls",
            "layout": "IPY_MODEL_378430b4afda4082b7c4360002a38074"
          }
        },
        "c9db1f1d788e412da9145eb9f3a3cf93": {
          "model_module": "@jupyter-widgets/controls",
          "model_name": "DescriptionStyleModel",
          "model_module_version": "1.5.0",
          "state": {
            "_view_name": "StyleView",
            "_model_name": "DescriptionStyleModel",
            "description_width": "",
            "_view_module": "@jupyter-widgets/base",
            "_model_module_version": "1.5.0",
            "_view_count": null,
            "_view_module_version": "1.2.0",
            "_model_module": "@jupyter-widgets/controls"
          }
        },
        "f6185bb18dd44778b485a2e9fd741d8e": {
          "model_module": "@jupyter-widgets/base",
          "model_name": "LayoutModel",
          "model_module_version": "1.2.0",
          "state": {
            "_view_name": "LayoutView",
            "grid_template_rows": null,
            "right": null,
            "justify_content": null,
            "_view_module": "@jupyter-widgets/base",
            "overflow": null,
            "_model_module_version": "1.2.0",
            "_view_count": null,
            "flex_flow": null,
            "width": null,
            "min_width": null,
            "border": null,
            "align_items": null,
            "bottom": null,
            "_model_module": "@jupyter-widgets/base",
            "top": null,
            "grid_column": null,
            "overflow_y": null,
            "overflow_x": null,
            "grid_auto_flow": null,
            "grid_area": null,
            "grid_template_columns": null,
            "flex": null,
            "_model_name": "LayoutModel",
            "justify_items": null,
            "grid_row": null,
            "max_height": null,
            "align_content": null,
            "visibility": null,
            "align_self": null,
            "height": null,
            "min_height": null,
            "padding": null,
            "grid_auto_rows": null,
            "grid_gap": null,
            "max_width": null,
            "order": null,
            "_view_module_version": "1.2.0",
            "grid_template_areas": null,
            "object_position": null,
            "object_fit": null,
            "grid_auto_columns": null,
            "margin": null,
            "display": null,
            "left": null
          }
        },
        "de5c34576d874958ab8d856b55bb5f2e": {
          "model_module": "@jupyter-widgets/controls",
          "model_name": "ProgressStyleModel",
          "model_module_version": "1.5.0",
          "state": {
            "_view_name": "StyleView",
            "_model_name": "ProgressStyleModel",
            "description_width": "",
            "_view_module": "@jupyter-widgets/base",
            "_model_module_version": "1.5.0",
            "_view_count": null,
            "_view_module_version": "1.2.0",
            "bar_color": null,
            "_model_module": "@jupyter-widgets/controls"
          }
        },
        "2140f4c615774ab5b7206721b4b96694": {
          "model_module": "@jupyter-widgets/base",
          "model_name": "LayoutModel",
          "model_module_version": "1.2.0",
          "state": {
            "_view_name": "LayoutView",
            "grid_template_rows": null,
            "right": null,
            "justify_content": null,
            "_view_module": "@jupyter-widgets/base",
            "overflow": null,
            "_model_module_version": "1.2.0",
            "_view_count": null,
            "flex_flow": null,
            "width": null,
            "min_width": null,
            "border": null,
            "align_items": null,
            "bottom": null,
            "_model_module": "@jupyter-widgets/base",
            "top": null,
            "grid_column": null,
            "overflow_y": null,
            "overflow_x": null,
            "grid_auto_flow": null,
            "grid_area": null,
            "grid_template_columns": null,
            "flex": null,
            "_model_name": "LayoutModel",
            "justify_items": null,
            "grid_row": null,
            "max_height": null,
            "align_content": null,
            "visibility": null,
            "align_self": null,
            "height": null,
            "min_height": null,
            "padding": null,
            "grid_auto_rows": null,
            "grid_gap": null,
            "max_width": null,
            "order": null,
            "_view_module_version": "1.2.0",
            "grid_template_areas": null,
            "object_position": null,
            "object_fit": null,
            "grid_auto_columns": null,
            "margin": null,
            "display": null,
            "left": null
          }
        },
        "875b1fd0e90e4bd198151da63b2283f6": {
          "model_module": "@jupyter-widgets/controls",
          "model_name": "DescriptionStyleModel",
          "model_module_version": "1.5.0",
          "state": {
            "_view_name": "StyleView",
            "_model_name": "DescriptionStyleModel",
            "description_width": "",
            "_view_module": "@jupyter-widgets/base",
            "_model_module_version": "1.5.0",
            "_view_count": null,
            "_view_module_version": "1.2.0",
            "_model_module": "@jupyter-widgets/controls"
          }
        },
        "378430b4afda4082b7c4360002a38074": {
          "model_module": "@jupyter-widgets/base",
          "model_name": "LayoutModel",
          "model_module_version": "1.2.0",
          "state": {
            "_view_name": "LayoutView",
            "grid_template_rows": null,
            "right": null,
            "justify_content": null,
            "_view_module": "@jupyter-widgets/base",
            "overflow": null,
            "_model_module_version": "1.2.0",
            "_view_count": null,
            "flex_flow": null,
            "width": null,
            "min_width": null,
            "border": null,
            "align_items": null,
            "bottom": null,
            "_model_module": "@jupyter-widgets/base",
            "top": null,
            "grid_column": null,
            "overflow_y": null,
            "overflow_x": null,
            "grid_auto_flow": null,
            "grid_area": null,
            "grid_template_columns": null,
            "flex": null,
            "_model_name": "LayoutModel",
            "justify_items": null,
            "grid_row": null,
            "max_height": null,
            "align_content": null,
            "visibility": null,
            "align_self": null,
            "height": null,
            "min_height": null,
            "padding": null,
            "grid_auto_rows": null,
            "grid_gap": null,
            "max_width": null,
            "order": null,
            "_view_module_version": "1.2.0",
            "grid_template_areas": null,
            "object_position": null,
            "object_fit": null,
            "grid_auto_columns": null,
            "margin": null,
            "display": null,
            "left": null
          }
        },
        "5b9639bd26cf4f81ababe07beab95f1e": {
          "model_module": "@jupyter-widgets/controls",
          "model_name": "HBoxModel",
          "model_module_version": "1.5.0",
          "state": {
            "_view_name": "HBoxView",
            "_dom_classes": [],
            "_model_name": "HBoxModel",
            "_view_module": "@jupyter-widgets/controls",
            "_model_module_version": "1.5.0",
            "_view_count": null,
            "_view_module_version": "1.5.0",
            "box_style": "",
            "layout": "IPY_MODEL_41693397c21544da8b93b2201764d0f4",
            "_model_module": "@jupyter-widgets/controls",
            "children": [
              "IPY_MODEL_670f5a8805734016ad4c43e787310822",
              "IPY_MODEL_a8d9d199c062467ca01b3ea268b2d8a9",
              "IPY_MODEL_e9eadb7ab4ae4c13a6e1ec0f95601a5f"
            ]
          }
        },
        "41693397c21544da8b93b2201764d0f4": {
          "model_module": "@jupyter-widgets/base",
          "model_name": "LayoutModel",
          "model_module_version": "1.2.0",
          "state": {
            "_view_name": "LayoutView",
            "grid_template_rows": null,
            "right": null,
            "justify_content": null,
            "_view_module": "@jupyter-widgets/base",
            "overflow": null,
            "_model_module_version": "1.2.0",
            "_view_count": null,
            "flex_flow": null,
            "width": null,
            "min_width": null,
            "border": null,
            "align_items": null,
            "bottom": null,
            "_model_module": "@jupyter-widgets/base",
            "top": null,
            "grid_column": null,
            "overflow_y": null,
            "overflow_x": null,
            "grid_auto_flow": null,
            "grid_area": null,
            "grid_template_columns": null,
            "flex": null,
            "_model_name": "LayoutModel",
            "justify_items": null,
            "grid_row": null,
            "max_height": null,
            "align_content": null,
            "visibility": null,
            "align_self": null,
            "height": null,
            "min_height": null,
            "padding": null,
            "grid_auto_rows": null,
            "grid_gap": null,
            "max_width": null,
            "order": null,
            "_view_module_version": "1.2.0",
            "grid_template_areas": null,
            "object_position": null,
            "object_fit": null,
            "grid_auto_columns": null,
            "margin": null,
            "display": null,
            "left": null
          }
        },
        "670f5a8805734016ad4c43e787310822": {
          "model_module": "@jupyter-widgets/controls",
          "model_name": "HTMLModel",
          "model_module_version": "1.5.0",
          "state": {
            "_view_name": "HTMLView",
            "style": "IPY_MODEL_8e8d814fde8946b99f003737e96608d0",
            "_dom_classes": [],
            "description": "",
            "_model_name": "HTMLModel",
            "placeholder": "​",
            "_view_module": "@jupyter-widgets/controls",
            "_model_module_version": "1.5.0",
            "value": "Downloading: 100%",
            "_view_count": null,
            "_view_module_version": "1.5.0",
            "description_tooltip": null,
            "_model_module": "@jupyter-widgets/controls",
            "layout": "IPY_MODEL_01d5b65519a94152878c041cad4458d9"
          }
        },
        "a8d9d199c062467ca01b3ea268b2d8a9": {
          "model_module": "@jupyter-widgets/controls",
          "model_name": "FloatProgressModel",
          "model_module_version": "1.5.0",
          "state": {
            "_view_name": "ProgressView",
            "style": "IPY_MODEL_2b5dfbe1a7784c468e7100a8a746b567",
            "_dom_classes": [],
            "description": "",
            "_model_name": "FloatProgressModel",
            "bar_style": "success",
            "max": 206760,
            "_view_module": "@jupyter-widgets/controls",
            "_model_module_version": "1.5.0",
            "value": 206760,
            "_view_count": null,
            "_view_module_version": "1.5.0",
            "orientation": "horizontal",
            "min": 0,
            "description_tooltip": null,
            "_model_module": "@jupyter-widgets/controls",
            "layout": "IPY_MODEL_0b80fae7116943bfb21719a05560e6fc"
          }
        },
        "e9eadb7ab4ae4c13a6e1ec0f95601a5f": {
          "model_module": "@jupyter-widgets/controls",
          "model_name": "HTMLModel",
          "model_module_version": "1.5.0",
          "state": {
            "_view_name": "HTMLView",
            "style": "IPY_MODEL_1040f8138e6e49d6b261c4632f5faccd",
            "_dom_classes": [],
            "description": "",
            "_model_name": "HTMLModel",
            "placeholder": "​",
            "_view_module": "@jupyter-widgets/controls",
            "_model_module_version": "1.5.0",
            "value": " 207k/207k [00:00&lt;00:00, 665kB/s]",
            "_view_count": null,
            "_view_module_version": "1.5.0",
            "description_tooltip": null,
            "_model_module": "@jupyter-widgets/controls",
            "layout": "IPY_MODEL_dc514b2ab2fe4f3497dbf5318e4948cd"
          }
        },
        "8e8d814fde8946b99f003737e96608d0": {
          "model_module": "@jupyter-widgets/controls",
          "model_name": "DescriptionStyleModel",
          "model_module_version": "1.5.0",
          "state": {
            "_view_name": "StyleView",
            "_model_name": "DescriptionStyleModel",
            "description_width": "",
            "_view_module": "@jupyter-widgets/base",
            "_model_module_version": "1.5.0",
            "_view_count": null,
            "_view_module_version": "1.2.0",
            "_model_module": "@jupyter-widgets/controls"
          }
        },
        "01d5b65519a94152878c041cad4458d9": {
          "model_module": "@jupyter-widgets/base",
          "model_name": "LayoutModel",
          "model_module_version": "1.2.0",
          "state": {
            "_view_name": "LayoutView",
            "grid_template_rows": null,
            "right": null,
            "justify_content": null,
            "_view_module": "@jupyter-widgets/base",
            "overflow": null,
            "_model_module_version": "1.2.0",
            "_view_count": null,
            "flex_flow": null,
            "width": null,
            "min_width": null,
            "border": null,
            "align_items": null,
            "bottom": null,
            "_model_module": "@jupyter-widgets/base",
            "top": null,
            "grid_column": null,
            "overflow_y": null,
            "overflow_x": null,
            "grid_auto_flow": null,
            "grid_area": null,
            "grid_template_columns": null,
            "flex": null,
            "_model_name": "LayoutModel",
            "justify_items": null,
            "grid_row": null,
            "max_height": null,
            "align_content": null,
            "visibility": null,
            "align_self": null,
            "height": null,
            "min_height": null,
            "padding": null,
            "grid_auto_rows": null,
            "grid_gap": null,
            "max_width": null,
            "order": null,
            "_view_module_version": "1.2.0",
            "grid_template_areas": null,
            "object_position": null,
            "object_fit": null,
            "grid_auto_columns": null,
            "margin": null,
            "display": null,
            "left": null
          }
        },
        "2b5dfbe1a7784c468e7100a8a746b567": {
          "model_module": "@jupyter-widgets/controls",
          "model_name": "ProgressStyleModel",
          "model_module_version": "1.5.0",
          "state": {
            "_view_name": "StyleView",
            "_model_name": "ProgressStyleModel",
            "description_width": "",
            "_view_module": "@jupyter-widgets/base",
            "_model_module_version": "1.5.0",
            "_view_count": null,
            "_view_module_version": "1.2.0",
            "bar_color": null,
            "_model_module": "@jupyter-widgets/controls"
          }
        },
        "0b80fae7116943bfb21719a05560e6fc": {
          "model_module": "@jupyter-widgets/base",
          "model_name": "LayoutModel",
          "model_module_version": "1.2.0",
          "state": {
            "_view_name": "LayoutView",
            "grid_template_rows": null,
            "right": null,
            "justify_content": null,
            "_view_module": "@jupyter-widgets/base",
            "overflow": null,
            "_model_module_version": "1.2.0",
            "_view_count": null,
            "flex_flow": null,
            "width": null,
            "min_width": null,
            "border": null,
            "align_items": null,
            "bottom": null,
            "_model_module": "@jupyter-widgets/base",
            "top": null,
            "grid_column": null,
            "overflow_y": null,
            "overflow_x": null,
            "grid_auto_flow": null,
            "grid_area": null,
            "grid_template_columns": null,
            "flex": null,
            "_model_name": "LayoutModel",
            "justify_items": null,
            "grid_row": null,
            "max_height": null,
            "align_content": null,
            "visibility": null,
            "align_self": null,
            "height": null,
            "min_height": null,
            "padding": null,
            "grid_auto_rows": null,
            "grid_gap": null,
            "max_width": null,
            "order": null,
            "_view_module_version": "1.2.0",
            "grid_template_areas": null,
            "object_position": null,
            "object_fit": null,
            "grid_auto_columns": null,
            "margin": null,
            "display": null,
            "left": null
          }
        },
        "1040f8138e6e49d6b261c4632f5faccd": {
          "model_module": "@jupyter-widgets/controls",
          "model_name": "DescriptionStyleModel",
          "model_module_version": "1.5.0",
          "state": {
            "_view_name": "StyleView",
            "_model_name": "DescriptionStyleModel",
            "description_width": "",
            "_view_module": "@jupyter-widgets/base",
            "_model_module_version": "1.5.0",
            "_view_count": null,
            "_view_module_version": "1.2.0",
            "_model_module": "@jupyter-widgets/controls"
          }
        },
        "dc514b2ab2fe4f3497dbf5318e4948cd": {
          "model_module": "@jupyter-widgets/base",
          "model_name": "LayoutModel",
          "model_module_version": "1.2.0",
          "state": {
            "_view_name": "LayoutView",
            "grid_template_rows": null,
            "right": null,
            "justify_content": null,
            "_view_module": "@jupyter-widgets/base",
            "overflow": null,
            "_model_module_version": "1.2.0",
            "_view_count": null,
            "flex_flow": null,
            "width": null,
            "min_width": null,
            "border": null,
            "align_items": null,
            "bottom": null,
            "_model_module": "@jupyter-widgets/base",
            "top": null,
            "grid_column": null,
            "overflow_y": null,
            "overflow_x": null,
            "grid_auto_flow": null,
            "grid_area": null,
            "grid_template_columns": null,
            "flex": null,
            "_model_name": "LayoutModel",
            "justify_items": null,
            "grid_row": null,
            "max_height": null,
            "align_content": null,
            "visibility": null,
            "align_self": null,
            "height": null,
            "min_height": null,
            "padding": null,
            "grid_auto_rows": null,
            "grid_gap": null,
            "max_width": null,
            "order": null,
            "_view_module_version": "1.2.0",
            "grid_template_areas": null,
            "object_position": null,
            "object_fit": null,
            "grid_auto_columns": null,
            "margin": null,
            "display": null,
            "left": null
          }
        },
        "e903c7067f034942948e24ab8e85ec11": {
          "model_module": "@jupyter-widgets/controls",
          "model_name": "HBoxModel",
          "model_module_version": "1.5.0",
          "state": {
            "_view_name": "HBoxView",
            "_dom_classes": [],
            "_model_name": "HBoxModel",
            "_view_module": "@jupyter-widgets/controls",
            "_model_module_version": "1.5.0",
            "_view_count": null,
            "_view_module_version": "1.5.0",
            "box_style": "",
            "layout": "IPY_MODEL_7f448ff16c2947da9a93d3429e1c970a",
            "_model_module": "@jupyter-widgets/controls",
            "children": [
              "IPY_MODEL_8ab374e36e524f7098c1fe2afd49a0f9",
              "IPY_MODEL_e42e28427f414bc0a707b655159f8392",
              "IPY_MODEL_b0acaebb93694b95bfde6ddaa66c8621"
            ]
          }
        },
        "7f448ff16c2947da9a93d3429e1c970a": {
          "model_module": "@jupyter-widgets/base",
          "model_name": "LayoutModel",
          "model_module_version": "1.2.0",
          "state": {
            "_view_name": "LayoutView",
            "grid_template_rows": null,
            "right": null,
            "justify_content": null,
            "_view_module": "@jupyter-widgets/base",
            "overflow": null,
            "_model_module_version": "1.2.0",
            "_view_count": null,
            "flex_flow": null,
            "width": null,
            "min_width": null,
            "border": null,
            "align_items": null,
            "bottom": null,
            "_model_module": "@jupyter-widgets/base",
            "top": null,
            "grid_column": null,
            "overflow_y": null,
            "overflow_x": null,
            "grid_auto_flow": null,
            "grid_area": null,
            "grid_template_columns": null,
            "flex": null,
            "_model_name": "LayoutModel",
            "justify_items": null,
            "grid_row": null,
            "max_height": null,
            "align_content": null,
            "visibility": null,
            "align_self": null,
            "height": null,
            "min_height": null,
            "padding": null,
            "grid_auto_rows": null,
            "grid_gap": null,
            "max_width": null,
            "order": null,
            "_view_module_version": "1.2.0",
            "grid_template_areas": null,
            "object_position": null,
            "object_fit": null,
            "grid_auto_columns": null,
            "margin": null,
            "display": null,
            "left": null
          }
        },
        "8ab374e36e524f7098c1fe2afd49a0f9": {
          "model_module": "@jupyter-widgets/controls",
          "model_name": "HTMLModel",
          "model_module_version": "1.5.0",
          "state": {
            "_view_name": "HTMLView",
            "style": "IPY_MODEL_1dbcd75fb43048c6ba00ca61f5c0073e",
            "_dom_classes": [],
            "description": "",
            "_model_name": "HTMLModel",
            "placeholder": "​",
            "_view_module": "@jupyter-widgets/controls",
            "_model_module_version": "1.5.0",
            "value": "",
            "_view_count": null,
            "_view_module_version": "1.5.0",
            "description_tooltip": null,
            "_model_module": "@jupyter-widgets/controls",
            "layout": "IPY_MODEL_5208f7442d1f40e4bfc1ab02c4ff9f41"
          }
        },
        "e42e28427f414bc0a707b655159f8392": {
          "model_module": "@jupyter-widgets/controls",
          "model_name": "FloatProgressModel",
          "model_module_version": "1.5.0",
          "state": {
            "_view_name": "ProgressView",
            "style": "IPY_MODEL_52b1dedd16e5436e865d6f4ca3d17e96",
            "_dom_classes": [],
            "description": "",
            "_model_name": "FloatProgressModel",
            "bar_style": "info",
            "max": 1,
            "_view_module": "@jupyter-widgets/controls",
            "_model_module_version": "1.5.0",
            "value": 1,
            "_view_count": null,
            "_view_module_version": "1.5.0",
            "orientation": "horizontal",
            "min": 0,
            "description_tooltip": null,
            "_model_module": "@jupyter-widgets/controls",
            "layout": "IPY_MODEL_a89d811fd4df485f94a9e972aea7b663"
          }
        },
        "b0acaebb93694b95bfde6ddaa66c8621": {
          "model_module": "@jupyter-widgets/controls",
          "model_name": "HTMLModel",
          "model_module_version": "1.5.0",
          "state": {
            "_view_name": "HTMLView",
            "style": "IPY_MODEL_e93ec3cd14cb4184aa27a8aad6619a20",
            "_dom_classes": [],
            "description": "",
            "_model_name": "HTMLModel",
            "placeholder": "​",
            "_view_module": "@jupyter-widgets/controls",
            "_model_module_version": "1.5.0",
            "value": " 10000/0 [00:00&lt;00:00, 34950.06 examples/s]",
            "_view_count": null,
            "_view_module_version": "1.5.0",
            "description_tooltip": null,
            "_model_module": "@jupyter-widgets/controls",
            "layout": "IPY_MODEL_4dd79851a8d94e22b15ec19ab566fcea"
          }
        },
        "1dbcd75fb43048c6ba00ca61f5c0073e": {
          "model_module": "@jupyter-widgets/controls",
          "model_name": "DescriptionStyleModel",
          "model_module_version": "1.5.0",
          "state": {
            "_view_name": "StyleView",
            "_model_name": "DescriptionStyleModel",
            "description_width": "",
            "_view_module": "@jupyter-widgets/base",
            "_model_module_version": "1.5.0",
            "_view_count": null,
            "_view_module_version": "1.2.0",
            "_model_module": "@jupyter-widgets/controls"
          }
        },
        "5208f7442d1f40e4bfc1ab02c4ff9f41": {
          "model_module": "@jupyter-widgets/base",
          "model_name": "LayoutModel",
          "model_module_version": "1.2.0",
          "state": {
            "_view_name": "LayoutView",
            "grid_template_rows": null,
            "right": null,
            "justify_content": null,
            "_view_module": "@jupyter-widgets/base",
            "overflow": null,
            "_model_module_version": "1.2.0",
            "_view_count": null,
            "flex_flow": null,
            "width": null,
            "min_width": null,
            "border": null,
            "align_items": null,
            "bottom": null,
            "_model_module": "@jupyter-widgets/base",
            "top": null,
            "grid_column": null,
            "overflow_y": null,
            "overflow_x": null,
            "grid_auto_flow": null,
            "grid_area": null,
            "grid_template_columns": null,
            "flex": null,
            "_model_name": "LayoutModel",
            "justify_items": null,
            "grid_row": null,
            "max_height": null,
            "align_content": null,
            "visibility": null,
            "align_self": null,
            "height": null,
            "min_height": null,
            "padding": null,
            "grid_auto_rows": null,
            "grid_gap": null,
            "max_width": null,
            "order": null,
            "_view_module_version": "1.2.0",
            "grid_template_areas": null,
            "object_position": null,
            "object_fit": null,
            "grid_auto_columns": null,
            "margin": null,
            "display": null,
            "left": null
          }
        },
        "52b1dedd16e5436e865d6f4ca3d17e96": {
          "model_module": "@jupyter-widgets/controls",
          "model_name": "ProgressStyleModel",
          "model_module_version": "1.5.0",
          "state": {
            "_view_name": "StyleView",
            "_model_name": "ProgressStyleModel",
            "description_width": "",
            "_view_module": "@jupyter-widgets/base",
            "_model_module_version": "1.5.0",
            "_view_count": null,
            "_view_module_version": "1.2.0",
            "bar_color": null,
            "_model_module": "@jupyter-widgets/controls"
          }
        },
        "a89d811fd4df485f94a9e972aea7b663": {
          "model_module": "@jupyter-widgets/base",
          "model_name": "LayoutModel",
          "model_module_version": "1.2.0",
          "state": {
            "_view_name": "LayoutView",
            "grid_template_rows": null,
            "right": null,
            "justify_content": null,
            "_view_module": "@jupyter-widgets/base",
            "overflow": null,
            "_model_module_version": "1.2.0",
            "_view_count": null,
            "flex_flow": null,
            "width": "20px",
            "min_width": null,
            "border": null,
            "align_items": null,
            "bottom": null,
            "_model_module": "@jupyter-widgets/base",
            "top": null,
            "grid_column": null,
            "overflow_y": null,
            "overflow_x": null,
            "grid_auto_flow": null,
            "grid_area": null,
            "grid_template_columns": null,
            "flex": null,
            "_model_name": "LayoutModel",
            "justify_items": null,
            "grid_row": null,
            "max_height": null,
            "align_content": null,
            "visibility": null,
            "align_self": null,
            "height": null,
            "min_height": null,
            "padding": null,
            "grid_auto_rows": null,
            "grid_gap": null,
            "max_width": null,
            "order": null,
            "_view_module_version": "1.2.0",
            "grid_template_areas": null,
            "object_position": null,
            "object_fit": null,
            "grid_auto_columns": null,
            "margin": null,
            "display": null,
            "left": null
          }
        },
        "e93ec3cd14cb4184aa27a8aad6619a20": {
          "model_module": "@jupyter-widgets/controls",
          "model_name": "DescriptionStyleModel",
          "model_module_version": "1.5.0",
          "state": {
            "_view_name": "StyleView",
            "_model_name": "DescriptionStyleModel",
            "description_width": "",
            "_view_module": "@jupyter-widgets/base",
            "_model_module_version": "1.5.0",
            "_view_count": null,
            "_view_module_version": "1.2.0",
            "_model_module": "@jupyter-widgets/controls"
          }
        },
        "4dd79851a8d94e22b15ec19ab566fcea": {
          "model_module": "@jupyter-widgets/base",
          "model_name": "LayoutModel",
          "model_module_version": "1.2.0",
          "state": {
            "_view_name": "LayoutView",
            "grid_template_rows": null,
            "right": null,
            "justify_content": null,
            "_view_module": "@jupyter-widgets/base",
            "overflow": null,
            "_model_module_version": "1.2.0",
            "_view_count": null,
            "flex_flow": null,
            "width": null,
            "min_width": null,
            "border": null,
            "align_items": null,
            "bottom": null,
            "_model_module": "@jupyter-widgets/base",
            "top": null,
            "grid_column": null,
            "overflow_y": null,
            "overflow_x": null,
            "grid_auto_flow": null,
            "grid_area": null,
            "grid_template_columns": null,
            "flex": null,
            "_model_name": "LayoutModel",
            "justify_items": null,
            "grid_row": null,
            "max_height": null,
            "align_content": null,
            "visibility": null,
            "align_self": null,
            "height": null,
            "min_height": null,
            "padding": null,
            "grid_auto_rows": null,
            "grid_gap": null,
            "max_width": null,
            "order": null,
            "_view_module_version": "1.2.0",
            "grid_template_areas": null,
            "object_position": null,
            "object_fit": null,
            "grid_auto_columns": null,
            "margin": null,
            "display": null,
            "left": null
          }
        },
        "d4ea0f8da0344b8aa1ffc970486b5663": {
          "model_module": "@jupyter-widgets/controls",
          "model_name": "HBoxModel",
          "model_module_version": "1.5.0",
          "state": {
            "_view_name": "HBoxView",
            "_dom_classes": [],
            "_model_name": "HBoxModel",
            "_view_module": "@jupyter-widgets/controls",
            "_model_module_version": "1.5.0",
            "_view_count": null,
            "_view_module_version": "1.5.0",
            "box_style": "",
            "layout": "IPY_MODEL_7fa7122db96f4386b43125cc360b96b6",
            "_model_module": "@jupyter-widgets/controls",
            "children": [
              "IPY_MODEL_21c966c376c6404eaf318665418359ec",
              "IPY_MODEL_916d9e0767fd4ad7ba84591b81dc6ba8",
              "IPY_MODEL_2ab3292f6f8843c2b145738f2b5d17ae"
            ]
          }
        },
        "7fa7122db96f4386b43125cc360b96b6": {
          "model_module": "@jupyter-widgets/base",
          "model_name": "LayoutModel",
          "model_module_version": "1.2.0",
          "state": {
            "_view_name": "LayoutView",
            "grid_template_rows": null,
            "right": null,
            "justify_content": null,
            "_view_module": "@jupyter-widgets/base",
            "overflow": null,
            "_model_module_version": "1.2.0",
            "_view_count": null,
            "flex_flow": null,
            "width": null,
            "min_width": null,
            "border": null,
            "align_items": null,
            "bottom": null,
            "_model_module": "@jupyter-widgets/base",
            "top": null,
            "grid_column": null,
            "overflow_y": null,
            "overflow_x": null,
            "grid_auto_flow": null,
            "grid_area": null,
            "grid_template_columns": null,
            "flex": null,
            "_model_name": "LayoutModel",
            "justify_items": null,
            "grid_row": null,
            "max_height": null,
            "align_content": null,
            "visibility": null,
            "align_self": null,
            "height": null,
            "min_height": null,
            "padding": null,
            "grid_auto_rows": null,
            "grid_gap": null,
            "max_width": null,
            "order": null,
            "_view_module_version": "1.2.0",
            "grid_template_areas": null,
            "object_position": null,
            "object_fit": null,
            "grid_auto_columns": null,
            "margin": null,
            "display": null,
            "left": null
          }
        },
        "21c966c376c6404eaf318665418359ec": {
          "model_module": "@jupyter-widgets/controls",
          "model_name": "HTMLModel",
          "model_module_version": "1.5.0",
          "state": {
            "_view_name": "HTMLView",
            "style": "IPY_MODEL_120b3eef530946b9954ac8c70732c506",
            "_dom_classes": [],
            "description": "",
            "_model_name": "HTMLModel",
            "placeholder": "​",
            "_view_module": "@jupyter-widgets/controls",
            "_model_module_version": "1.5.0",
            "value": "",
            "_view_count": null,
            "_view_module_version": "1.5.0",
            "description_tooltip": null,
            "_model_module": "@jupyter-widgets/controls",
            "layout": "IPY_MODEL_9562246f71fa40fe82e1aca54be1b7a1"
          }
        },
        "916d9e0767fd4ad7ba84591b81dc6ba8": {
          "model_module": "@jupyter-widgets/controls",
          "model_name": "FloatProgressModel",
          "model_module_version": "1.5.0",
          "state": {
            "_view_name": "ProgressView",
            "style": "IPY_MODEL_efb6815e085b4ac9ad75d3f2e7252e12",
            "_dom_classes": [],
            "description": "",
            "_model_name": "FloatProgressModel",
            "bar_style": "info",
            "max": 1,
            "_view_module": "@jupyter-widgets/controls",
            "_model_module_version": "1.5.0",
            "value": 1,
            "_view_count": null,
            "_view_module_version": "1.5.0",
            "orientation": "horizontal",
            "min": 0,
            "description_tooltip": null,
            "_model_module": "@jupyter-widgets/controls",
            "layout": "IPY_MODEL_91c088ca80e2455ba948a744c384a309"
          }
        },
        "2ab3292f6f8843c2b145738f2b5d17ae": {
          "model_module": "@jupyter-widgets/controls",
          "model_name": "HTMLModel",
          "model_module_version": "1.5.0",
          "state": {
            "_view_name": "HTMLView",
            "style": "IPY_MODEL_7361d5fa054645beae571225078ee7cd",
            "_dom_classes": [],
            "description": "",
            "_model_name": "HTMLModel",
            "placeholder": "​",
            "_view_module": "@jupyter-widgets/controls",
            "_model_module_version": "1.5.0",
            "value": " 1779/0 [00:00&lt;00:00, 17557.11 examples/s]",
            "_view_count": null,
            "_view_module_version": "1.5.0",
            "description_tooltip": null,
            "_model_module": "@jupyter-widgets/controls",
            "layout": "IPY_MODEL_5542fe245b35423f8dc238513113101a"
          }
        },
        "120b3eef530946b9954ac8c70732c506": {
          "model_module": "@jupyter-widgets/controls",
          "model_name": "DescriptionStyleModel",
          "model_module_version": "1.5.0",
          "state": {
            "_view_name": "StyleView",
            "_model_name": "DescriptionStyleModel",
            "description_width": "",
            "_view_module": "@jupyter-widgets/base",
            "_model_module_version": "1.5.0",
            "_view_count": null,
            "_view_module_version": "1.2.0",
            "_model_module": "@jupyter-widgets/controls"
          }
        },
        "9562246f71fa40fe82e1aca54be1b7a1": {
          "model_module": "@jupyter-widgets/base",
          "model_name": "LayoutModel",
          "model_module_version": "1.2.0",
          "state": {
            "_view_name": "LayoutView",
            "grid_template_rows": null,
            "right": null,
            "justify_content": null,
            "_view_module": "@jupyter-widgets/base",
            "overflow": null,
            "_model_module_version": "1.2.0",
            "_view_count": null,
            "flex_flow": null,
            "width": null,
            "min_width": null,
            "border": null,
            "align_items": null,
            "bottom": null,
            "_model_module": "@jupyter-widgets/base",
            "top": null,
            "grid_column": null,
            "overflow_y": null,
            "overflow_x": null,
            "grid_auto_flow": null,
            "grid_area": null,
            "grid_template_columns": null,
            "flex": null,
            "_model_name": "LayoutModel",
            "justify_items": null,
            "grid_row": null,
            "max_height": null,
            "align_content": null,
            "visibility": null,
            "align_self": null,
            "height": null,
            "min_height": null,
            "padding": null,
            "grid_auto_rows": null,
            "grid_gap": null,
            "max_width": null,
            "order": null,
            "_view_module_version": "1.2.0",
            "grid_template_areas": null,
            "object_position": null,
            "object_fit": null,
            "grid_auto_columns": null,
            "margin": null,
            "display": null,
            "left": null
          }
        },
        "efb6815e085b4ac9ad75d3f2e7252e12": {
          "model_module": "@jupyter-widgets/controls",
          "model_name": "ProgressStyleModel",
          "model_module_version": "1.5.0",
          "state": {
            "_view_name": "StyleView",
            "_model_name": "ProgressStyleModel",
            "description_width": "",
            "_view_module": "@jupyter-widgets/base",
            "_model_module_version": "1.5.0",
            "_view_count": null,
            "_view_module_version": "1.2.0",
            "bar_color": null,
            "_model_module": "@jupyter-widgets/controls"
          }
        },
        "91c088ca80e2455ba948a744c384a309": {
          "model_module": "@jupyter-widgets/base",
          "model_name": "LayoutModel",
          "model_module_version": "1.2.0",
          "state": {
            "_view_name": "LayoutView",
            "grid_template_rows": null,
            "right": null,
            "justify_content": null,
            "_view_module": "@jupyter-widgets/base",
            "overflow": null,
            "_model_module_version": "1.2.0",
            "_view_count": null,
            "flex_flow": null,
            "width": "20px",
            "min_width": null,
            "border": null,
            "align_items": null,
            "bottom": null,
            "_model_module": "@jupyter-widgets/base",
            "top": null,
            "grid_column": null,
            "overflow_y": null,
            "overflow_x": null,
            "grid_auto_flow": null,
            "grid_area": null,
            "grid_template_columns": null,
            "flex": null,
            "_model_name": "LayoutModel",
            "justify_items": null,
            "grid_row": null,
            "max_height": null,
            "align_content": null,
            "visibility": null,
            "align_self": null,
            "height": null,
            "min_height": null,
            "padding": null,
            "grid_auto_rows": null,
            "grid_gap": null,
            "max_width": null,
            "order": null,
            "_view_module_version": "1.2.0",
            "grid_template_areas": null,
            "object_position": null,
            "object_fit": null,
            "grid_auto_columns": null,
            "margin": null,
            "display": null,
            "left": null
          }
        },
        "7361d5fa054645beae571225078ee7cd": {
          "model_module": "@jupyter-widgets/controls",
          "model_name": "DescriptionStyleModel",
          "model_module_version": "1.5.0",
          "state": {
            "_view_name": "StyleView",
            "_model_name": "DescriptionStyleModel",
            "description_width": "",
            "_view_module": "@jupyter-widgets/base",
            "_model_module_version": "1.5.0",
            "_view_count": null,
            "_view_module_version": "1.2.0",
            "_model_module": "@jupyter-widgets/controls"
          }
        },
        "5542fe245b35423f8dc238513113101a": {
          "model_module": "@jupyter-widgets/base",
          "model_name": "LayoutModel",
          "model_module_version": "1.2.0",
          "state": {
            "_view_name": "LayoutView",
            "grid_template_rows": null,
            "right": null,
            "justify_content": null,
            "_view_module": "@jupyter-widgets/base",
            "overflow": null,
            "_model_module_version": "1.2.0",
            "_view_count": null,
            "flex_flow": null,
            "width": null,
            "min_width": null,
            "border": null,
            "align_items": null,
            "bottom": null,
            "_model_module": "@jupyter-widgets/base",
            "top": null,
            "grid_column": null,
            "overflow_y": null,
            "overflow_x": null,
            "grid_auto_flow": null,
            "grid_area": null,
            "grid_template_columns": null,
            "flex": null,
            "_model_name": "LayoutModel",
            "justify_items": null,
            "grid_row": null,
            "max_height": null,
            "align_content": null,
            "visibility": null,
            "align_self": null,
            "height": null,
            "min_height": null,
            "padding": null,
            "grid_auto_rows": null,
            "grid_gap": null,
            "max_width": null,
            "order": null,
            "_view_module_version": "1.2.0",
            "grid_template_areas": null,
            "object_position": null,
            "object_fit": null,
            "grid_auto_columns": null,
            "margin": null,
            "display": null,
            "left": null
          }
        },
        "0d614f7727cc4fba806c61f80688a02f": {
          "model_module": "@jupyter-widgets/controls",
          "model_name": "HBoxModel",
          "model_module_version": "1.5.0",
          "state": {
            "_view_name": "HBoxView",
            "_dom_classes": [],
            "_model_name": "HBoxModel",
            "_view_module": "@jupyter-widgets/controls",
            "_model_module_version": "1.5.0",
            "_view_count": null,
            "_view_module_version": "1.5.0",
            "box_style": "",
            "layout": "IPY_MODEL_6c2a76125d4946128002092c0f4b8c0c",
            "_model_module": "@jupyter-widgets/controls",
            "children": [
              "IPY_MODEL_ba2e3fd98cb84e44aa4a8c31751de2bf",
              "IPY_MODEL_e58c193c40b240eabee69c7601aa4509",
              "IPY_MODEL_e70c6256f2f14e9dbf10620f14e71606"
            ]
          }
        },
        "6c2a76125d4946128002092c0f4b8c0c": {
          "model_module": "@jupyter-widgets/base",
          "model_name": "LayoutModel",
          "model_module_version": "1.2.0",
          "state": {
            "_view_name": "LayoutView",
            "grid_template_rows": null,
            "right": null,
            "justify_content": null,
            "_view_module": "@jupyter-widgets/base",
            "overflow": null,
            "_model_module_version": "1.2.0",
            "_view_count": null,
            "flex_flow": null,
            "width": null,
            "min_width": null,
            "border": null,
            "align_items": null,
            "bottom": null,
            "_model_module": "@jupyter-widgets/base",
            "top": null,
            "grid_column": null,
            "overflow_y": null,
            "overflow_x": null,
            "grid_auto_flow": null,
            "grid_area": null,
            "grid_template_columns": null,
            "flex": null,
            "_model_name": "LayoutModel",
            "justify_items": null,
            "grid_row": null,
            "max_height": null,
            "align_content": null,
            "visibility": null,
            "align_self": null,
            "height": null,
            "min_height": null,
            "padding": null,
            "grid_auto_rows": null,
            "grid_gap": null,
            "max_width": null,
            "order": null,
            "_view_module_version": "1.2.0",
            "grid_template_areas": null,
            "object_position": null,
            "object_fit": null,
            "grid_auto_columns": null,
            "margin": null,
            "display": null,
            "left": null
          }
        },
        "ba2e3fd98cb84e44aa4a8c31751de2bf": {
          "model_module": "@jupyter-widgets/controls",
          "model_name": "HTMLModel",
          "model_module_version": "1.5.0",
          "state": {
            "_view_name": "HTMLView",
            "style": "IPY_MODEL_5ac0a14221c54a9f897c42bf987a186a",
            "_dom_classes": [],
            "description": "",
            "_model_name": "HTMLModel",
            "placeholder": "​",
            "_view_module": "@jupyter-widgets/controls",
            "_model_module_version": "1.5.0",
            "value": "",
            "_view_count": null,
            "_view_module_version": "1.5.0",
            "description_tooltip": null,
            "_model_module": "@jupyter-widgets/controls",
            "layout": "IPY_MODEL_24a2bd8b3a43422da499ee41e9e167f6"
          }
        },
        "e58c193c40b240eabee69c7601aa4509": {
          "model_module": "@jupyter-widgets/controls",
          "model_name": "FloatProgressModel",
          "model_module_version": "1.5.0",
          "state": {
            "_view_name": "ProgressView",
            "style": "IPY_MODEL_3f2c66087370470695d1be449941fd6f",
            "_dom_classes": [],
            "description": "",
            "_model_name": "FloatProgressModel",
            "bar_style": "info",
            "max": 1,
            "_view_module": "@jupyter-widgets/controls",
            "_model_module_version": "1.5.0",
            "value": 1,
            "_view_count": null,
            "_view_module_version": "1.5.0",
            "orientation": "horizontal",
            "min": 0,
            "description_tooltip": null,
            "_model_module": "@jupyter-widgets/controls",
            "layout": "IPY_MODEL_3b07123463804d12bc5277ec6e97b314"
          }
        },
        "e70c6256f2f14e9dbf10620f14e71606": {
          "model_module": "@jupyter-widgets/controls",
          "model_name": "HTMLModel",
          "model_module_version": "1.5.0",
          "state": {
            "_view_name": "HTMLView",
            "style": "IPY_MODEL_14c46d859a30494fa43834cc3788452c",
            "_dom_classes": [],
            "description": "",
            "_model_name": "HTMLModel",
            "placeholder": "​",
            "_view_module": "@jupyter-widgets/controls",
            "_model_module_version": "1.5.0",
            "value": " 1936/0 [00:00&lt;00:00, 19307.04 examples/s]",
            "_view_count": null,
            "_view_module_version": "1.5.0",
            "description_tooltip": null,
            "_model_module": "@jupyter-widgets/controls",
            "layout": "IPY_MODEL_c113047d58ae46778eaf17d699d84901"
          }
        },
        "5ac0a14221c54a9f897c42bf987a186a": {
          "model_module": "@jupyter-widgets/controls",
          "model_name": "DescriptionStyleModel",
          "model_module_version": "1.5.0",
          "state": {
            "_view_name": "StyleView",
            "_model_name": "DescriptionStyleModel",
            "description_width": "",
            "_view_module": "@jupyter-widgets/base",
            "_model_module_version": "1.5.0",
            "_view_count": null,
            "_view_module_version": "1.2.0",
            "_model_module": "@jupyter-widgets/controls"
          }
        },
        "24a2bd8b3a43422da499ee41e9e167f6": {
          "model_module": "@jupyter-widgets/base",
          "model_name": "LayoutModel",
          "model_module_version": "1.2.0",
          "state": {
            "_view_name": "LayoutView",
            "grid_template_rows": null,
            "right": null,
            "justify_content": null,
            "_view_module": "@jupyter-widgets/base",
            "overflow": null,
            "_model_module_version": "1.2.0",
            "_view_count": null,
            "flex_flow": null,
            "width": null,
            "min_width": null,
            "border": null,
            "align_items": null,
            "bottom": null,
            "_model_module": "@jupyter-widgets/base",
            "top": null,
            "grid_column": null,
            "overflow_y": null,
            "overflow_x": null,
            "grid_auto_flow": null,
            "grid_area": null,
            "grid_template_columns": null,
            "flex": null,
            "_model_name": "LayoutModel",
            "justify_items": null,
            "grid_row": null,
            "max_height": null,
            "align_content": null,
            "visibility": null,
            "align_self": null,
            "height": null,
            "min_height": null,
            "padding": null,
            "grid_auto_rows": null,
            "grid_gap": null,
            "max_width": null,
            "order": null,
            "_view_module_version": "1.2.0",
            "grid_template_areas": null,
            "object_position": null,
            "object_fit": null,
            "grid_auto_columns": null,
            "margin": null,
            "display": null,
            "left": null
          }
        },
        "3f2c66087370470695d1be449941fd6f": {
          "model_module": "@jupyter-widgets/controls",
          "model_name": "ProgressStyleModel",
          "model_module_version": "1.5.0",
          "state": {
            "_view_name": "StyleView",
            "_model_name": "ProgressStyleModel",
            "description_width": "",
            "_view_module": "@jupyter-widgets/base",
            "_model_module_version": "1.5.0",
            "_view_count": null,
            "_view_module_version": "1.2.0",
            "bar_color": null,
            "_model_module": "@jupyter-widgets/controls"
          }
        },
        "3b07123463804d12bc5277ec6e97b314": {
          "model_module": "@jupyter-widgets/base",
          "model_name": "LayoutModel",
          "model_module_version": "1.2.0",
          "state": {
            "_view_name": "LayoutView",
            "grid_template_rows": null,
            "right": null,
            "justify_content": null,
            "_view_module": "@jupyter-widgets/base",
            "overflow": null,
            "_model_module_version": "1.2.0",
            "_view_count": null,
            "flex_flow": null,
            "width": "20px",
            "min_width": null,
            "border": null,
            "align_items": null,
            "bottom": null,
            "_model_module": "@jupyter-widgets/base",
            "top": null,
            "grid_column": null,
            "overflow_y": null,
            "overflow_x": null,
            "grid_auto_flow": null,
            "grid_area": null,
            "grid_template_columns": null,
            "flex": null,
            "_model_name": "LayoutModel",
            "justify_items": null,
            "grid_row": null,
            "max_height": null,
            "align_content": null,
            "visibility": null,
            "align_self": null,
            "height": null,
            "min_height": null,
            "padding": null,
            "grid_auto_rows": null,
            "grid_gap": null,
            "max_width": null,
            "order": null,
            "_view_module_version": "1.2.0",
            "grid_template_areas": null,
            "object_position": null,
            "object_fit": null,
            "grid_auto_columns": null,
            "margin": null,
            "display": null,
            "left": null
          }
        },
        "14c46d859a30494fa43834cc3788452c": {
          "model_module": "@jupyter-widgets/controls",
          "model_name": "DescriptionStyleModel",
          "model_module_version": "1.5.0",
          "state": {
            "_view_name": "StyleView",
            "_model_name": "DescriptionStyleModel",
            "description_width": "",
            "_view_module": "@jupyter-widgets/base",
            "_model_module_version": "1.5.0",
            "_view_count": null,
            "_view_module_version": "1.2.0",
            "_model_module": "@jupyter-widgets/controls"
          }
        },
        "c113047d58ae46778eaf17d699d84901": {
          "model_module": "@jupyter-widgets/base",
          "model_name": "LayoutModel",
          "model_module_version": "1.2.0",
          "state": {
            "_view_name": "LayoutView",
            "grid_template_rows": null,
            "right": null,
            "justify_content": null,
            "_view_module": "@jupyter-widgets/base",
            "overflow": null,
            "_model_module_version": "1.2.0",
            "_view_count": null,
            "flex_flow": null,
            "width": null,
            "min_width": null,
            "border": null,
            "align_items": null,
            "bottom": null,
            "_model_module": "@jupyter-widgets/base",
            "top": null,
            "grid_column": null,
            "overflow_y": null,
            "overflow_x": null,
            "grid_auto_flow": null,
            "grid_area": null,
            "grid_template_columns": null,
            "flex": null,
            "_model_name": "LayoutModel",
            "justify_items": null,
            "grid_row": null,
            "max_height": null,
            "align_content": null,
            "visibility": null,
            "align_self": null,
            "height": null,
            "min_height": null,
            "padding": null,
            "grid_auto_rows": null,
            "grid_gap": null,
            "max_width": null,
            "order": null,
            "_view_module_version": "1.2.0",
            "grid_template_areas": null,
            "object_position": null,
            "object_fit": null,
            "grid_auto_columns": null,
            "margin": null,
            "display": null,
            "left": null
          }
        }
      }
    }
  },
  "cells": [
    {
      "cell_type": "markdown",
      "metadata": {
        "id": "view-in-github",
        "colab_type": "text"
      },
      "source": [
        "<a href=\"https://colab.research.google.com/github/Priyanka-Sharma18/Tweet-Emotion-Recognition-with-Tenserflow/blob/main/Tweet_Emotion_Recognition.ipynb\" target=\"_parent\"><img src=\"https://colab.research.google.com/assets/colab-badge.svg\" alt=\"Open In Colab\"/></a>"
      ]
    },
    {
      "cell_type": "markdown",
      "metadata": {
        "id": "sp7D0ktn5eiG"
      },
      "source": [
        "## Tweet Emotion Recognition: Natural Language Processing with TensorFlow\n",
        "\n",
        "---\n",
        "\n",
        "Dataset: [Tweet Emotion Dataset](https://github.com/dair-ai/emotion_dataset)\n",
        "\n",
        "\n",
        "---\n",
        "\n",
        "## Introduction\n",
        "In this project, we are going to create a Recurrent Neural Network on a tweet emotion dataset to learn to recognize emotion in tweets. The dataset has thousands of tweets each classified in one of the six emotions.\n",
        "<br>\n",
        "Type of problem: Multiclass classification problem in NLP domain"
      ]
    },
    {
      "cell_type": "markdown",
      "metadata": {
        "id": "cprXxkrMxIgT"
      },
      "source": [
        "## Setup and Imports\n",
        "\n",
        "1. Installing Hugging Face's nlp package\n",
        "2. Importing libraries"
      ]
    },
    {
      "cell_type": "code",
      "metadata": {
        "id": "5agZRy-45i0g",
        "colab": {
          "base_uri": "https://localhost:8080/"
        },
        "outputId": "54c22a25-d776-460d-800b-3fc451fa8a20"
      },
      "source": [
        "!pip install nlp"
      ],
      "execution_count": null,
      "outputs": [
        {
          "output_type": "stream",
          "name": "stdout",
          "text": [
            "Collecting nlp\n",
            "  Downloading nlp-0.4.0-py3-none-any.whl (1.7 MB)\n",
            "\u001b[?25l\r\u001b[K     |▏                               | 10 kB 21.9 MB/s eta 0:00:01\r\u001b[K     |▍                               | 20 kB 28.2 MB/s eta 0:00:01\r\u001b[K     |▋                               | 30 kB 13.9 MB/s eta 0:00:01\r\u001b[K     |▉                               | 40 kB 10.3 MB/s eta 0:00:01\r\u001b[K     |█                               | 51 kB 4.6 MB/s eta 0:00:01\r\u001b[K     |█▏                              | 61 kB 4.7 MB/s eta 0:00:01\r\u001b[K     |█▍                              | 71 kB 4.5 MB/s eta 0:00:01\r\u001b[K     |█▋                              | 81 kB 5.0 MB/s eta 0:00:01\r\u001b[K     |█▉                              | 92 kB 5.0 MB/s eta 0:00:01\r\u001b[K     |██                              | 102 kB 4.3 MB/s eta 0:00:01\r\u001b[K     |██▏                             | 112 kB 4.3 MB/s eta 0:00:01\r\u001b[K     |██▍                             | 122 kB 4.3 MB/s eta 0:00:01\r\u001b[K     |██▋                             | 133 kB 4.3 MB/s eta 0:00:01\r\u001b[K     |██▊                             | 143 kB 4.3 MB/s eta 0:00:01\r\u001b[K     |███                             | 153 kB 4.3 MB/s eta 0:00:01\r\u001b[K     |███▏                            | 163 kB 4.3 MB/s eta 0:00:01\r\u001b[K     |███▍                            | 174 kB 4.3 MB/s eta 0:00:01\r\u001b[K     |███▋                            | 184 kB 4.3 MB/s eta 0:00:01\r\u001b[K     |███▊                            | 194 kB 4.3 MB/s eta 0:00:01\r\u001b[K     |████                            | 204 kB 4.3 MB/s eta 0:00:01\r\u001b[K     |████▏                           | 215 kB 4.3 MB/s eta 0:00:01\r\u001b[K     |████▍                           | 225 kB 4.3 MB/s eta 0:00:01\r\u001b[K     |████▌                           | 235 kB 4.3 MB/s eta 0:00:01\r\u001b[K     |████▊                           | 245 kB 4.3 MB/s eta 0:00:01\r\u001b[K     |█████                           | 256 kB 4.3 MB/s eta 0:00:01\r\u001b[K     |█████▏                          | 266 kB 4.3 MB/s eta 0:00:01\r\u001b[K     |█████▍                          | 276 kB 4.3 MB/s eta 0:00:01\r\u001b[K     |█████▌                          | 286 kB 4.3 MB/s eta 0:00:01\r\u001b[K     |█████▊                          | 296 kB 4.3 MB/s eta 0:00:01\r\u001b[K     |██████                          | 307 kB 4.3 MB/s eta 0:00:01\r\u001b[K     |██████▏                         | 317 kB 4.3 MB/s eta 0:00:01\r\u001b[K     |██████▎                         | 327 kB 4.3 MB/s eta 0:00:01\r\u001b[K     |██████▌                         | 337 kB 4.3 MB/s eta 0:00:01\r\u001b[K     |██████▊                         | 348 kB 4.3 MB/s eta 0:00:01\r\u001b[K     |███████                         | 358 kB 4.3 MB/s eta 0:00:01\r\u001b[K     |███████▏                        | 368 kB 4.3 MB/s eta 0:00:01\r\u001b[K     |███████▎                        | 378 kB 4.3 MB/s eta 0:00:01\r\u001b[K     |███████▌                        | 389 kB 4.3 MB/s eta 0:00:01\r\u001b[K     |███████▊                        | 399 kB 4.3 MB/s eta 0:00:01\r\u001b[K     |████████                        | 409 kB 4.3 MB/s eta 0:00:01\r\u001b[K     |████████                        | 419 kB 4.3 MB/s eta 0:00:01\r\u001b[K     |████████▎                       | 430 kB 4.3 MB/s eta 0:00:01\r\u001b[K     |████████▌                       | 440 kB 4.3 MB/s eta 0:00:01\r\u001b[K     |████████▊                       | 450 kB 4.3 MB/s eta 0:00:01\r\u001b[K     |█████████                       | 460 kB 4.3 MB/s eta 0:00:01\r\u001b[K     |█████████                       | 471 kB 4.3 MB/s eta 0:00:01\r\u001b[K     |█████████▎                      | 481 kB 4.3 MB/s eta 0:00:01\r\u001b[K     |█████████▌                      | 491 kB 4.3 MB/s eta 0:00:01\r\u001b[K     |█████████▊                      | 501 kB 4.3 MB/s eta 0:00:01\r\u001b[K     |█████████▉                      | 512 kB 4.3 MB/s eta 0:00:01\r\u001b[K     |██████████                      | 522 kB 4.3 MB/s eta 0:00:01\r\u001b[K     |██████████▎                     | 532 kB 4.3 MB/s eta 0:00:01\r\u001b[K     |██████████▌                     | 542 kB 4.3 MB/s eta 0:00:01\r\u001b[K     |██████████▊                     | 552 kB 4.3 MB/s eta 0:00:01\r\u001b[K     |██████████▉                     | 563 kB 4.3 MB/s eta 0:00:01\r\u001b[K     |███████████                     | 573 kB 4.3 MB/s eta 0:00:01\r\u001b[K     |███████████▎                    | 583 kB 4.3 MB/s eta 0:00:01\r\u001b[K     |███████████▌                    | 593 kB 4.3 MB/s eta 0:00:01\r\u001b[K     |███████████▋                    | 604 kB 4.3 MB/s eta 0:00:01\r\u001b[K     |███████████▉                    | 614 kB 4.3 MB/s eta 0:00:01\r\u001b[K     |████████████                    | 624 kB 4.3 MB/s eta 0:00:01\r\u001b[K     |████████████▎                   | 634 kB 4.3 MB/s eta 0:00:01\r\u001b[K     |████████████▌                   | 645 kB 4.3 MB/s eta 0:00:01\r\u001b[K     |████████████▋                   | 655 kB 4.3 MB/s eta 0:00:01\r\u001b[K     |████████████▉                   | 665 kB 4.3 MB/s eta 0:00:01\r\u001b[K     |█████████████                   | 675 kB 4.3 MB/s eta 0:00:01\r\u001b[K     |█████████████▎                  | 686 kB 4.3 MB/s eta 0:00:01\r\u001b[K     |█████████████▍                  | 696 kB 4.3 MB/s eta 0:00:01\r\u001b[K     |█████████████▋                  | 706 kB 4.3 MB/s eta 0:00:01\r\u001b[K     |█████████████▉                  | 716 kB 4.3 MB/s eta 0:00:01\r\u001b[K     |██████████████                  | 727 kB 4.3 MB/s eta 0:00:01\r\u001b[K     |██████████████▎                 | 737 kB 4.3 MB/s eta 0:00:01\r\u001b[K     |██████████████▍                 | 747 kB 4.3 MB/s eta 0:00:01\r\u001b[K     |██████████████▋                 | 757 kB 4.3 MB/s eta 0:00:01\r\u001b[K     |██████████████▉                 | 768 kB 4.3 MB/s eta 0:00:01\r\u001b[K     |███████████████                 | 778 kB 4.3 MB/s eta 0:00:01\r\u001b[K     |███████████████▏                | 788 kB 4.3 MB/s eta 0:00:01\r\u001b[K     |███████████████▍                | 798 kB 4.3 MB/s eta 0:00:01\r\u001b[K     |███████████████▋                | 808 kB 4.3 MB/s eta 0:00:01\r\u001b[K     |███████████████▉                | 819 kB 4.3 MB/s eta 0:00:01\r\u001b[K     |████████████████                | 829 kB 4.3 MB/s eta 0:00:01\r\u001b[K     |████████████████▏               | 839 kB 4.3 MB/s eta 0:00:01\r\u001b[K     |████████████████▍               | 849 kB 4.3 MB/s eta 0:00:01\r\u001b[K     |████████████████▋               | 860 kB 4.3 MB/s eta 0:00:01\r\u001b[K     |████████████████▉               | 870 kB 4.3 MB/s eta 0:00:01\r\u001b[K     |█████████████████               | 880 kB 4.3 MB/s eta 0:00:01\r\u001b[K     |█████████████████▏              | 890 kB 4.3 MB/s eta 0:00:01\r\u001b[K     |█████████████████▍              | 901 kB 4.3 MB/s eta 0:00:01\r\u001b[K     |█████████████████▋              | 911 kB 4.3 MB/s eta 0:00:01\r\u001b[K     |█████████████████▉              | 921 kB 4.3 MB/s eta 0:00:01\r\u001b[K     |██████████████████              | 931 kB 4.3 MB/s eta 0:00:01\r\u001b[K     |██████████████████▏             | 942 kB 4.3 MB/s eta 0:00:01\r\u001b[K     |██████████████████▍             | 952 kB 4.3 MB/s eta 0:00:01\r\u001b[K     |██████████████████▋             | 962 kB 4.3 MB/s eta 0:00:01\r\u001b[K     |██████████████████▊             | 972 kB 4.3 MB/s eta 0:00:01\r\u001b[K     |███████████████████             | 983 kB 4.3 MB/s eta 0:00:01\r\u001b[K     |███████████████████▏            | 993 kB 4.3 MB/s eta 0:00:01\r\u001b[K     |███████████████████▍            | 1.0 MB 4.3 MB/s eta 0:00:01\r\u001b[K     |███████████████████▋            | 1.0 MB 4.3 MB/s eta 0:00:01\r\u001b[K     |███████████████████▊            | 1.0 MB 4.3 MB/s eta 0:00:01\r\u001b[K     |████████████████████            | 1.0 MB 4.3 MB/s eta 0:00:01\r\u001b[K     |████████████████████▏           | 1.0 MB 4.3 MB/s eta 0:00:01\r\u001b[K     |████████████████████▍           | 1.1 MB 4.3 MB/s eta 0:00:01\r\u001b[K     |████████████████████▌           | 1.1 MB 4.3 MB/s eta 0:00:01\r\u001b[K     |████████████████████▊           | 1.1 MB 4.3 MB/s eta 0:00:01\r\u001b[K     |█████████████████████           | 1.1 MB 4.3 MB/s eta 0:00:01\r\u001b[K     |█████████████████████▏          | 1.1 MB 4.3 MB/s eta 0:00:01\r\u001b[K     |█████████████████████▍          | 1.1 MB 4.3 MB/s eta 0:00:01\r\u001b[K     |█████████████████████▌          | 1.1 MB 4.3 MB/s eta 0:00:01\r\u001b[K     |█████████████████████▊          | 1.1 MB 4.3 MB/s eta 0:00:01\r\u001b[K     |██████████████████████          | 1.1 MB 4.3 MB/s eta 0:00:01\r\u001b[K     |██████████████████████▏         | 1.1 MB 4.3 MB/s eta 0:00:01\r\u001b[K     |██████████████████████▎         | 1.2 MB 4.3 MB/s eta 0:00:01\r\u001b[K     |██████████████████████▌         | 1.2 MB 4.3 MB/s eta 0:00:01\r\u001b[K     |██████████████████████▊         | 1.2 MB 4.3 MB/s eta 0:00:01\r\u001b[K     |███████████████████████         | 1.2 MB 4.3 MB/s eta 0:00:01\r\u001b[K     |███████████████████████▏        | 1.2 MB 4.3 MB/s eta 0:00:01\r\u001b[K     |███████████████████████▎        | 1.2 MB 4.3 MB/s eta 0:00:01\r\u001b[K     |███████████████████████▌        | 1.2 MB 4.3 MB/s eta 0:00:01\r\u001b[K     |███████████████████████▊        | 1.2 MB 4.3 MB/s eta 0:00:01\r\u001b[K     |████████████████████████        | 1.2 MB 4.3 MB/s eta 0:00:01\r\u001b[K     |████████████████████████        | 1.2 MB 4.3 MB/s eta 0:00:01\r\u001b[K     |████████████████████████▎       | 1.3 MB 4.3 MB/s eta 0:00:01\r\u001b[K     |████████████████████████▌       | 1.3 MB 4.3 MB/s eta 0:00:01\r\u001b[K     |████████████████████████▊       | 1.3 MB 4.3 MB/s eta 0:00:01\r\u001b[K     |█████████████████████████       | 1.3 MB 4.3 MB/s eta 0:00:01\r\u001b[K     |█████████████████████████       | 1.3 MB 4.3 MB/s eta 0:00:01\r\u001b[K     |█████████████████████████▎      | 1.3 MB 4.3 MB/s eta 0:00:01\r\u001b[K     |█████████████████████████▌      | 1.3 MB 4.3 MB/s eta 0:00:01\r\u001b[K     |█████████████████████████▊      | 1.3 MB 4.3 MB/s eta 0:00:01\r\u001b[K     |█████████████████████████▉      | 1.3 MB 4.3 MB/s eta 0:00:01\r\u001b[K     |██████████████████████████      | 1.4 MB 4.3 MB/s eta 0:00:01\r\u001b[K     |██████████████████████████▎     | 1.4 MB 4.3 MB/s eta 0:00:01\r\u001b[K     |██████████████████████████▌     | 1.4 MB 4.3 MB/s eta 0:00:01\r\u001b[K     |██████████████████████████▊     | 1.4 MB 4.3 MB/s eta 0:00:01\r\u001b[K     |██████████████████████████▉     | 1.4 MB 4.3 MB/s eta 0:00:01\r\u001b[K     |███████████████████████████     | 1.4 MB 4.3 MB/s eta 0:00:01\r\u001b[K     |███████████████████████████▎    | 1.4 MB 4.3 MB/s eta 0:00:01\r\u001b[K     |███████████████████████████▌    | 1.4 MB 4.3 MB/s eta 0:00:01\r\u001b[K     |███████████████████████████▋    | 1.4 MB 4.3 MB/s eta 0:00:01\r\u001b[K     |███████████████████████████▉    | 1.4 MB 4.3 MB/s eta 0:00:01\r\u001b[K     |████████████████████████████    | 1.5 MB 4.3 MB/s eta 0:00:01\r\u001b[K     |████████████████████████████▎   | 1.5 MB 4.3 MB/s eta 0:00:01\r\u001b[K     |████████████████████████████▌   | 1.5 MB 4.3 MB/s eta 0:00:01\r\u001b[K     |████████████████████████████▋   | 1.5 MB 4.3 MB/s eta 0:00:01\r\u001b[K     |████████████████████████████▉   | 1.5 MB 4.3 MB/s eta 0:00:01\r\u001b[K     |█████████████████████████████   | 1.5 MB 4.3 MB/s eta 0:00:01\r\u001b[K     |█████████████████████████████▎  | 1.5 MB 4.3 MB/s eta 0:00:01\r\u001b[K     |█████████████████████████████▍  | 1.5 MB 4.3 MB/s eta 0:00:01\r\u001b[K     |█████████████████████████████▋  | 1.5 MB 4.3 MB/s eta 0:00:01\r\u001b[K     |█████████████████████████████▉  | 1.5 MB 4.3 MB/s eta 0:00:01\r\u001b[K     |██████████████████████████████  | 1.6 MB 4.3 MB/s eta 0:00:01\r\u001b[K     |██████████████████████████████▎ | 1.6 MB 4.3 MB/s eta 0:00:01\r\u001b[K     |██████████████████████████████▍ | 1.6 MB 4.3 MB/s eta 0:00:01\r\u001b[K     |██████████████████████████████▋ | 1.6 MB 4.3 MB/s eta 0:00:01\r\u001b[K     |██████████████████████████████▉ | 1.6 MB 4.3 MB/s eta 0:00:01\r\u001b[K     |███████████████████████████████ | 1.6 MB 4.3 MB/s eta 0:00:01\r\u001b[K     |███████████████████████████████▏| 1.6 MB 4.3 MB/s eta 0:00:01\r\u001b[K     |███████████████████████████████▍| 1.6 MB 4.3 MB/s eta 0:00:01\r\u001b[K     |███████████████████████████████▋| 1.6 MB 4.3 MB/s eta 0:00:01\r\u001b[K     |███████████████████████████████▉| 1.6 MB 4.3 MB/s eta 0:00:01\r\u001b[K     |████████████████████████████████| 1.7 MB 4.3 MB/s \n",
            "\u001b[?25hRequirement already satisfied: dill in /usr/local/lib/python3.7/dist-packages (from nlp) (0.3.4)\n",
            "Requirement already satisfied: pandas in /usr/local/lib/python3.7/dist-packages (from nlp) (1.1.5)\n",
            "Requirement already satisfied: pyarrow>=0.16.0 in /usr/local/lib/python3.7/dist-packages (from nlp) (3.0.0)\n",
            "Requirement already satisfied: requests>=2.19.0 in /usr/local/lib/python3.7/dist-packages (from nlp) (2.23.0)\n",
            "Collecting xxhash\n",
            "  Downloading xxhash-2.0.2-cp37-cp37m-manylinux2010_x86_64.whl (243 kB)\n",
            "\u001b[K     |████████████████████████████████| 243 kB 49.2 MB/s \n",
            "\u001b[?25hRequirement already satisfied: tqdm>=4.27 in /usr/local/lib/python3.7/dist-packages (from nlp) (4.62.3)\n",
            "Requirement already satisfied: numpy in /usr/local/lib/python3.7/dist-packages (from nlp) (1.19.5)\n",
            "Requirement already satisfied: filelock in /usr/local/lib/python3.7/dist-packages (from nlp) (3.4.0)\n",
            "Requirement already satisfied: urllib3!=1.25.0,!=1.25.1,<1.26,>=1.21.1 in /usr/local/lib/python3.7/dist-packages (from requests>=2.19.0->nlp) (1.24.3)\n",
            "Requirement already satisfied: chardet<4,>=3.0.2 in /usr/local/lib/python3.7/dist-packages (from requests>=2.19.0->nlp) (3.0.4)\n",
            "Requirement already satisfied: certifi>=2017.4.17 in /usr/local/lib/python3.7/dist-packages (from requests>=2.19.0->nlp) (2021.10.8)\n",
            "Requirement already satisfied: idna<3,>=2.5 in /usr/local/lib/python3.7/dist-packages (from requests>=2.19.0->nlp) (2.10)\n",
            "Requirement already satisfied: pytz>=2017.2 in /usr/local/lib/python3.7/dist-packages (from pandas->nlp) (2018.9)\n",
            "Requirement already satisfied: python-dateutil>=2.7.3 in /usr/local/lib/python3.7/dist-packages (from pandas->nlp) (2.8.2)\n",
            "Requirement already satisfied: six>=1.5 in /usr/local/lib/python3.7/dist-packages (from python-dateutil>=2.7.3->pandas->nlp) (1.15.0)\n",
            "Installing collected packages: xxhash, nlp\n",
            "Successfully installed nlp-0.4.0 xxhash-2.0.2\n"
          ]
        }
      ]
    },
    {
      "cell_type": "code",
      "metadata": {
        "id": "yKFjWz6e5eiH"
      },
      "source": [
        "%matplotlib inline\n",
        "\n",
        "import tensorflow as tf\n",
        "import numpy as np\n",
        "import matplotlib.pyplot as plt\n",
        "import nlp\n",
        "import random"
      ],
      "execution_count": null,
      "outputs": []
    },
    {
      "cell_type": "code",
      "metadata": {
        "id": "R_K2KNu_h3tc"
      },
      "source": [
        "def show_history(h):\n",
        "    epochs_trained = len(h.history['loss'])\n",
        "    plt.figure(figsize=(16, 6))\n",
        "\n",
        "    plt.subplot(1, 2, 1)\n",
        "    plt.plot(range(0, epochs_trained), h.history.get('accuracy'), label='Training')\n",
        "    plt.plot(range(0, epochs_trained), h.history.get('val_accuracy'), label='Validation')\n",
        "    plt.ylim([0., 1.])\n",
        "    plt.xlabel('Epochs')\n",
        "    plt.ylabel('Accuracy')\n",
        "    plt.legend()\n",
        "\n",
        "    plt.subplot(1, 2, 2)\n",
        "    plt.plot(range(0, epochs_trained), h.history.get('loss'), label='Training')\n",
        "    plt.plot(range(0, epochs_trained), h.history.get('val_loss'), label='Validation')\n",
        "    plt.xlabel('Epochs')\n",
        "    plt.ylabel('Loss')\n",
        "    plt.legend()\n",
        "    plt.show()\n",
        "\n",
        "    \n",
        "def show_confusion_matrix(y_true, y_pred, classes):\n",
        "    from sklearn.metrics import confusion_matrix\n",
        "    \n",
        "    cm = confusion_matrix(y_true, y_pred, normalize='true')\n",
        "\n",
        "    plt.figure(figsize=(8, 8))\n",
        "    sp = plt.subplot(1, 1, 1)\n",
        "    ctx = sp.matshow(cm)\n",
        "    plt.xticks(list(range(0, 6)), labels=classes)\n",
        "    plt.yticks(list(range(0, 6)), labels=classes)\n",
        "    plt.colorbar(ctx)\n",
        "    plt.show()\n"
      ],
      "execution_count": null,
      "outputs": []
    },
    {
      "cell_type": "markdown",
      "metadata": {
        "id": "7JsBpezExIga"
      },
      "source": [
        "## Importing Data\n",
        "\n",
        "1. Importing the Tweet Emotion dataset\n",
        "2. Creating train, validation and test sets\n",
        "3. Extracting tweets and labels from the examples"
      ]
    },
    {
      "cell_type": "code",
      "metadata": {
        "id": "0YHOvjAu5eiL",
        "colab": {
          "base_uri": "https://localhost:8080/",
          "height": 332,
          "referenced_widgets": [
            "055350b74a7149539b3157711a4d5d02",
            "879069f61a504966b19ec2f23fef40ed",
            "e42369c6c28c44c8b5e2a27fce27ee88",
            "eac5a8b896024e51bb4255b80cb93571",
            "9b9ac889f6fd48ed855338f4205dd50e",
            "3f340cd5265042f3bb0a5a17d289f1e8",
            "ed313d73cd7d41308c510d4b6660e659",
            "637b4d7b592c4b01956877bf87401517",
            "f11cdefe19e6400ba8ec65ca8cdec4be",
            "ba862285be1247009c7fa008e5dcbce5",
            "540e6b61d90d48968b2a4d33cc4bc3b2",
            "5c941e6bdc1c44bea51488a90a2e7586",
            "79133e29a6844baea29c0d49f784047a",
            "45f0fd7b4be246509e83217c888740ff",
            "82d34eb50014431d9449adf9ec6f3a3f",
            "c3e8f4eab53849d086d9310cf9dba17c",
            "af00c82d6394491dbdb97ab3dfff651d",
            "d13434ce9b714f8a969f9012e43a248c",
            "5a985d43177d435dbcbfb1977b2ab35a",
            "0c76a85176b54b07a6adccf638660819",
            "ad878bc8bda8481e85afe12bb5bf0dd1",
            "970af45a47f44e798f2c5521591a024e",
            "508c6627290c4ffe8663154ae47948ee",
            "26b55db011684755a2e4fc8fd9107e26",
            "a9af4590a62b4a5fb64220fc902e4fb2",
            "175ec19c213f47fb9b494de107d66105",
            "61251ca1e37349dfa15b474446122170",
            "7b84391c5cee401283e77d8aa520d4b4",
            "155179c1674f4081b279aeb26c493dfe",
            "2683523f7fcc4241af246adb9140538a",
            "2d2f2b8fd0314341a0cd15d5caed8736",
            "92a16aec736b4ed68c7f0ab27349b2ac",
            "1c3d9e27e6c2487795f4ece1fac29904",
            "c3c97e14f06441349b01cffb64bec7a9",
            "131a546ba9704563aad1b39799419fae",
            "7cd5cc9597354eadabc8b21367268935",
            "d32aa9e567f74347bf39621e16da4223",
            "eb3db615c8db447b82608923ab246b0d",
            "c9db1f1d788e412da9145eb9f3a3cf93",
            "f6185bb18dd44778b485a2e9fd741d8e",
            "de5c34576d874958ab8d856b55bb5f2e",
            "2140f4c615774ab5b7206721b4b96694",
            "875b1fd0e90e4bd198151da63b2283f6",
            "378430b4afda4082b7c4360002a38074",
            "5b9639bd26cf4f81ababe07beab95f1e",
            "41693397c21544da8b93b2201764d0f4",
            "670f5a8805734016ad4c43e787310822",
            "a8d9d199c062467ca01b3ea268b2d8a9",
            "e9eadb7ab4ae4c13a6e1ec0f95601a5f",
            "8e8d814fde8946b99f003737e96608d0",
            "01d5b65519a94152878c041cad4458d9",
            "2b5dfbe1a7784c468e7100a8a746b567",
            "0b80fae7116943bfb21719a05560e6fc",
            "1040f8138e6e49d6b261c4632f5faccd",
            "dc514b2ab2fe4f3497dbf5318e4948cd",
            "e903c7067f034942948e24ab8e85ec11",
            "7f448ff16c2947da9a93d3429e1c970a",
            "8ab374e36e524f7098c1fe2afd49a0f9",
            "e42e28427f414bc0a707b655159f8392",
            "b0acaebb93694b95bfde6ddaa66c8621",
            "1dbcd75fb43048c6ba00ca61f5c0073e",
            "5208f7442d1f40e4bfc1ab02c4ff9f41",
            "52b1dedd16e5436e865d6f4ca3d17e96",
            "a89d811fd4df485f94a9e972aea7b663",
            "e93ec3cd14cb4184aa27a8aad6619a20",
            "4dd79851a8d94e22b15ec19ab566fcea",
            "d4ea0f8da0344b8aa1ffc970486b5663",
            "7fa7122db96f4386b43125cc360b96b6",
            "21c966c376c6404eaf318665418359ec",
            "916d9e0767fd4ad7ba84591b81dc6ba8",
            "2ab3292f6f8843c2b145738f2b5d17ae",
            "120b3eef530946b9954ac8c70732c506",
            "9562246f71fa40fe82e1aca54be1b7a1",
            "efb6815e085b4ac9ad75d3f2e7252e12",
            "91c088ca80e2455ba948a744c384a309",
            "7361d5fa054645beae571225078ee7cd",
            "5542fe245b35423f8dc238513113101a",
            "0d614f7727cc4fba806c61f80688a02f",
            "6c2a76125d4946128002092c0f4b8c0c",
            "ba2e3fd98cb84e44aa4a8c31751de2bf",
            "e58c193c40b240eabee69c7601aa4509",
            "e70c6256f2f14e9dbf10620f14e71606",
            "5ac0a14221c54a9f897c42bf987a186a",
            "24a2bd8b3a43422da499ee41e9e167f6",
            "3f2c66087370470695d1be449941fd6f",
            "3b07123463804d12bc5277ec6e97b314",
            "14c46d859a30494fa43834cc3788452c",
            "c113047d58ae46778eaf17d699d84901"
          ]
        },
        "outputId": "539c1e9f-c1c0-4d80-d6a8-dbe4239523cc"
      },
      "source": [
        "data = nlp.load_dataset('emotion')"
      ],
      "execution_count": null,
      "outputs": [
        {
          "output_type": "display_data",
          "data": {
            "application/vnd.jupyter.widget-view+json": {
              "model_id": "055350b74a7149539b3157711a4d5d02",
              "version_minor": 0,
              "version_major": 2
            },
            "text/plain": [
              "Downloading:   0%|          | 0.00/3.41k [00:00<?, ?B/s]"
            ]
          },
          "metadata": {}
        },
        {
          "output_type": "display_data",
          "data": {
            "application/vnd.jupyter.widget-view+json": {
              "model_id": "5c941e6bdc1c44bea51488a90a2e7586",
              "version_minor": 0,
              "version_major": 2
            },
            "text/plain": [
              "Downloading:   0%|          | 0.00/6.01k [00:00<?, ?B/s]"
            ]
          },
          "metadata": {}
        },
        {
          "output_type": "stream",
          "name": "stderr",
          "text": [
            "Using custom data configuration default\n"
          ]
        },
        {
          "output_type": "stream",
          "name": "stdout",
          "text": [
            "Downloading and preparing dataset emotion/default (download: 1.97 MiB, generated: 2.09 MiB, post-processed: Unknown sizetotal: 4.06 MiB) to /root/.cache/huggingface/datasets/emotion/default/0.0.0/84e07cd366f4451464584cdbd4958f512bcaddb1e921341e07298ce8a9ce42f4...\n"
          ]
        },
        {
          "output_type": "display_data",
          "data": {
            "application/vnd.jupyter.widget-view+json": {
              "model_id": "508c6627290c4ffe8663154ae47948ee",
              "version_minor": 0,
              "version_major": 2
            },
            "text/plain": [
              "Downloading:   0%|          | 0.00/1.66M [00:00<?, ?B/s]"
            ]
          },
          "metadata": {}
        },
        {
          "output_type": "display_data",
          "data": {
            "application/vnd.jupyter.widget-view+json": {
              "model_id": "c3c97e14f06441349b01cffb64bec7a9",
              "version_minor": 0,
              "version_major": 2
            },
            "text/plain": [
              "Downloading:   0%|          | 0.00/204k [00:00<?, ?B/s]"
            ]
          },
          "metadata": {}
        },
        {
          "output_type": "display_data",
          "data": {
            "application/vnd.jupyter.widget-view+json": {
              "model_id": "5b9639bd26cf4f81ababe07beab95f1e",
              "version_minor": 0,
              "version_major": 2
            },
            "text/plain": [
              "Downloading:   0%|          | 0.00/207k [00:00<?, ?B/s]"
            ]
          },
          "metadata": {}
        },
        {
          "output_type": "display_data",
          "data": {
            "application/vnd.jupyter.widget-view+json": {
              "model_id": "e903c7067f034942948e24ab8e85ec11",
              "version_minor": 0,
              "version_major": 2
            },
            "text/plain": [
              "0 examples [00:00, ? examples/s]"
            ]
          },
          "metadata": {}
        },
        {
          "output_type": "display_data",
          "data": {
            "application/vnd.jupyter.widget-view+json": {
              "model_id": "d4ea0f8da0344b8aa1ffc970486b5663",
              "version_minor": 0,
              "version_major": 2
            },
            "text/plain": [
              "0 examples [00:00, ? examples/s]"
            ]
          },
          "metadata": {}
        },
        {
          "output_type": "display_data",
          "data": {
            "application/vnd.jupyter.widget-view+json": {
              "model_id": "0d614f7727cc4fba806c61f80688a02f",
              "version_minor": 0,
              "version_major": 2
            },
            "text/plain": [
              "0 examples [00:00, ? examples/s]"
            ]
          },
          "metadata": {}
        },
        {
          "output_type": "stream",
          "name": "stdout",
          "text": [
            "Dataset emotion downloaded and prepared to /root/.cache/huggingface/datasets/emotion/default/0.0.0/84e07cd366f4451464584cdbd4958f512bcaddb1e921341e07298ce8a9ce42f4. Subsequent calls will reuse this data.\n"
          ]
        }
      ]
    },
    {
      "cell_type": "code",
      "metadata": {
        "id": "2s0h541FxIgc",
        "colab": {
          "base_uri": "https://localhost:8080/"
        },
        "outputId": "93595269-ad91-47cc-a95e-f8a027128cf7"
      },
      "source": [
        "data"
      ],
      "execution_count": null,
      "outputs": [
        {
          "output_type": "execute_result",
          "data": {
            "text/plain": [
              "{'test': Dataset(features: {'text': Value(dtype='string', id=None), 'label': Value(dtype='string', id=None)}, num_rows: 2000),\n",
              " 'train': Dataset(features: {'text': Value(dtype='string', id=None), 'label': Value(dtype='string', id=None)}, num_rows: 16000),\n",
              " 'validation': Dataset(features: {'text': Value(dtype='string', id=None), 'label': Value(dtype='string', id=None)}, num_rows: 2000)}"
            ]
          },
          "metadata": {},
          "execution_count": 9
        }
      ]
    },
    {
      "cell_type": "code",
      "metadata": {
        "id": "z7eCnxU25eiN"
      },
      "source": [
        "train = data['train']\n",
        "val = data['validation']\n",
        "test = data['test']"
      ],
      "execution_count": null,
      "outputs": []
    },
    {
      "cell_type": "code",
      "metadata": {
        "id": "oDYXMfZy5eiP"
      },
      "source": [
        "def get_tweet(obj):\n",
        "  tweets = [x['text'] for x in obj]\n",
        "  labels = [x['label'] for x in obj]\n",
        "  return tweets, labels"
      ],
      "execution_count": null,
      "outputs": []
    },
    {
      "cell_type": "code",
      "metadata": {
        "id": "jeq3-vSB5eiR"
      },
      "source": [
        "tweets, labels = get_tweet(train)"
      ],
      "execution_count": null,
      "outputs": []
    },
    {
      "cell_type": "code",
      "metadata": {
        "id": "bHD3Tk0J5eiU",
        "colab": {
          "base_uri": "https://localhost:8080/"
        },
        "outputId": "fe74033c-55e1-4ffc-9a6c-2fa076fd998d"
      },
      "source": [
        "tweets[0], labels[0]"
      ],
      "execution_count": null,
      "outputs": [
        {
          "output_type": "execute_result",
          "data": {
            "text/plain": [
              "('i didnt feel humiliated', 'sadness')"
            ]
          },
          "metadata": {},
          "execution_count": 38
        }
      ]
    },
    {
      "cell_type": "code",
      "metadata": {
        "colab": {
          "base_uri": "https://localhost:8080/"
        },
        "id": "dssMOI75ngdI",
        "outputId": "31c37097-d24f-405c-ff87-96f7c6c471e6"
      },
      "source": [
        "tweets[1], labels[1]"
      ],
      "execution_count": null,
      "outputs": [
        {
          "output_type": "execute_result",
          "data": {
            "text/plain": [
              "('i can go from feeling so hopeless to so damned hopeful just from being around someone who cares and is awake',\n",
              " 'sadness')"
            ]
          },
          "metadata": {},
          "execution_count": 39
        }
      ]
    },
    {
      "cell_type": "markdown",
      "metadata": {
        "id": "gcAflLv6xIgp"
      },
      "source": [
        "## Tokenizer\n",
        "\n",
        "1. Tokenizing the tweets - converting words into numbers"
      ]
    },
    {
      "cell_type": "code",
      "metadata": {
        "id": "qfX5-ResxIgq"
      },
      "source": [
        "from tensorflow.keras.preprocessing.text import Tokenizer"
      ],
      "execution_count": null,
      "outputs": []
    },
    {
      "cell_type": "code",
      "metadata": {
        "id": "cckUvwBo5eif"
      },
      "source": [
        "tokenizer  = Tokenizer(num_words = 10000,oov_token = '<UNK>' )\n",
        "tokenizer.fit_on_texts(tweets)"
      ],
      "execution_count": null,
      "outputs": []
    },
    {
      "cell_type": "code",
      "metadata": {
        "colab": {
          "base_uri": "https://localhost:8080/"
        },
        "id": "DuGUracTqqv9",
        "outputId": "a51bb250-ac8a-4162-9193-4b7ce31a267f"
      },
      "source": [
        "tokenizer.texts_to_sequences([tweets[1]])"
      ],
      "execution_count": null,
      "outputs": [
        {
          "output_type": "execute_result",
          "data": {
            "text/plain": [
              "[[2,\n",
              "  40,\n",
              "  101,\n",
              "  60,\n",
              "  8,\n",
              "  15,\n",
              "  494,\n",
              "  5,\n",
              "  15,\n",
              "  3496,\n",
              "  553,\n",
              "  32,\n",
              "  60,\n",
              "  61,\n",
              "  128,\n",
              "  148,\n",
              "  76,\n",
              "  1480,\n",
              "  4,\n",
              "  22,\n",
              "  1255]]"
            ]
          },
          "metadata": {},
          "execution_count": 18
        }
      ]
    },
    {
      "cell_type": "code",
      "metadata": {
        "colab": {
          "base_uri": "https://localhost:8080/",
          "height": 52
        },
        "id": "8gSNfapCaZzZ",
        "outputId": "27eb3f3e-f348-4fcd-ac8f-0a95dabb00d9"
      },
      "source": [
        "tweets[1]"
      ],
      "execution_count": null,
      "outputs": [
        {
          "output_type": "execute_result",
          "data": {
            "application/vnd.google.colaboratory.intrinsic+json": {
              "type": "string"
            },
            "text/plain": [
              "'i can go from feeling so hopeless to so damned hopeful just from being around someone who cares and is awake'"
            ]
          },
          "metadata": {},
          "execution_count": 19
        }
      ]
    },
    {
      "cell_type": "markdown",
      "metadata": {
        "id": "i3Bqm7b2xIgu"
      },
      "source": [
        "## Padding and Truncating Sequences\n",
        "\n",
        "1. Checking length of the tweets\n",
        "2. Creating padded sequences"
      ]
    },
    {
      "cell_type": "code",
      "metadata": {
        "id": "mLvf_WFZxIgu",
        "colab": {
          "base_uri": "https://localhost:8080/",
          "height": 279
        },
        "outputId": "c3200567-dacb-47c4-c997-6473be08b3f2"
      },
      "source": [
        "length = [len(t.split(' ')) for t in tweets]\n",
        "plt.hist(length, bins = len(set(length)))\n",
        "plt.xlabel(\"Length of tweets\")\n",
        "plt.ylabel(\"Number of tweets\")\n",
        "plt.show()"
      ],
      "execution_count": null,
      "outputs": [
        {
          "output_type": "display_data",
          "data": {
            "image/png": "[encoded data removed]",
            "text/plain": [
              "<Figure size 432x288 with 1 Axes>"
            ]
          },
          "metadata": {
            "needs_background": "light"
          }
        }
      ]
    },
    {
      "cell_type": "code",
      "metadata": {
        "id": "1B_NW9bUgPTK"
      },
      "source": [
        "maxlen = 50\n",
        "from tensorflow.keras.preprocessing.sequence import pad_sequences"
      ],
      "execution_count": null,
      "outputs": []
    },
    {
      "cell_type": "code",
      "metadata": {
        "id": "Q9J_Iemf5eiq"
      },
      "source": [
        "def get_sequences(tokenizer, tweets):\n",
        "  sequences = tokenizer.texts_to_sequences(tweets)\n",
        "  padded = pad_sequences(sequences, truncating = 'post', padding='post', maxlen = maxlen)\n",
        "  return padded"
      ],
      "execution_count": null,
      "outputs": []
    },
    {
      "cell_type": "code",
      "metadata": {
        "id": "eglH77ky5ei0"
      },
      "source": [
        "padded_train_seq = get_sequences(tokenizer, tweets)"
      ],
      "execution_count": null,
      "outputs": []
    },
    {
      "cell_type": "code",
      "metadata": {
        "id": "iGR473HA5ei7",
        "colab": {
          "base_uri": "https://localhost:8080/"
        },
        "outputId": "3383b8ef-d6c4-4a49-c61b-2ae2aee3394f"
      },
      "source": [
        "padded_train_seq[0]"
      ],
      "execution_count": null,
      "outputs": [
        {
          "output_type": "execute_result",
          "data": {
            "text/plain": [
              "array([  2, 139,   3, 679,   0,   0,   0,   0,   0,   0,   0,   0,   0,\n",
              "         0,   0,   0,   0,   0,   0,   0,   0,   0,   0,   0,   0,   0,\n",
              "         0,   0,   0,   0,   0,   0,   0,   0,   0,   0,   0,   0,   0,\n",
              "         0,   0,   0,   0,   0,   0,   0,   0,   0,   0,   0], dtype=int32)"
            ]
          },
          "metadata": {},
          "execution_count": 44
        }
      ]
    },
    {
      "cell_type": "markdown",
      "metadata": {
        "id": "BURhOX_KxIg8"
      },
      "source": [
        "## Preparing the Labels\n",
        "\n",
        "1. Creating classes to index and index to classes dictionaries\n",
        "2. Converting text labels to numeric labels"
      ]
    },
    {
      "cell_type": "code",
      "metadata": {
        "colab": {
          "base_uri": "https://localhost:8080/"
        },
        "id": "r7ng_kllkvMG",
        "outputId": "d228119d-c1cc-456c-cca9-6158ff7a5145"
      },
      "source": [
        "classes = set(labels)\n",
        "print(classes)"
      ],
      "execution_count": null,
      "outputs": [
        {
          "output_type": "stream",
          "name": "stdout",
          "text": [
            "{'sadness', 'joy', 'love', 'surprise', 'anger', 'fear'}\n"
          ]
        }
      ]
    },
    {
      "cell_type": "code",
      "metadata": {
        "id": "SufT2bpD5ejE",
        "colab": {
          "base_uri": "https://localhost:8080/",
          "height": 279
        },
        "outputId": "387e03e9-3b9f-41e2-9952-0c3cae9a87d4"
      },
      "source": [
        "plt.hist(labels, bins = 6)\n",
        "plt.xlabel('Classes')\n",
        "plt.ylabel('Number of tweets')\n",
        "plt.show()"
      ],
      "execution_count": null,
      "outputs": [
        {
          "output_type": "display_data",
          "data": {
            "image/png": "[encoded data removed]",
            "text/plain": [
              "<Figure size 432x288 with 1 Axes>"
            ]
          },
          "metadata": {
            "needs_background": "light"
          }
        }
      ]
    },
    {
      "cell_type": "code",
      "metadata": {
        "id": "rpwzL88I7YSm",
        "colab": {
          "base_uri": "https://localhost:8080/"
        },
        "outputId": "cc035174-06fb-466f-e107-a5382fcc8286"
      },
      "source": [
        "class_to_index = dict((c,i) for i , c in enumerate(classes))\n",
        "class_to_index"
      ],
      "execution_count": null,
      "outputs": [
        {
          "output_type": "execute_result",
          "data": {
            "text/plain": [
              "{'anger': 4, 'fear': 5, 'joy': 1, 'love': 2, 'sadness': 0, 'surprise': 3}"
            ]
          },
          "metadata": {},
          "execution_count": 52
        }
      ]
    },
    {
      "cell_type": "code",
      "metadata": {
        "id": "dNLF6rXL5ejN",
        "colab": {
          "base_uri": "https://localhost:8080/"
        },
        "outputId": "d7b9b17a-df44-4a19-ac99-dfd8f211c3c7"
      },
      "source": [
        "index_to_class = dict((k,v) for v,k in class_to_index.items())\n",
        "index_to_class"
      ],
      "execution_count": null,
      "outputs": [
        {
          "output_type": "execute_result",
          "data": {
            "text/plain": [
              "{0: 'sadness', 1: 'joy', 2: 'love', 3: 'surprise', 4: 'anger', 5: 'fear'}"
            ]
          },
          "metadata": {},
          "execution_count": 58
        }
      ]
    },
    {
      "cell_type": "code",
      "metadata": {
        "id": "_08InVyM5ejc"
      },
      "source": [
        "names_to_ids = lambda labels: np.array([class_to_index.get(x) for x in labels])"
      ],
      "execution_count": null,
      "outputs": []
    },
    {
      "cell_type": "code",
      "metadata": {
        "colab": {
          "base_uri": "https://localhost:8080/"
        },
        "id": "vE6vi0mWtJeN",
        "outputId": "e4a6f656-a830-4d49-d2fa-2de793f5e85a"
      },
      "source": [
        "names_to_ids(labels)"
      ],
      "execution_count": null,
      "outputs": [
        {
          "output_type": "execute_result",
          "data": {
            "text/plain": [
              "array([0, 0, 4, ..., 1, 4, 0])"
            ]
          },
          "metadata": {},
          "execution_count": 60
        }
      ]
    },
    {
      "cell_type": "code",
      "metadata": {
        "id": "gpeDoA6gxIhE",
        "colab": {
          "base_uri": "https://localhost:8080/"
        },
        "outputId": "42453396-acd7-4f57-fb37-01cff6cdc908"
      },
      "source": [
        "train_labels = names_to_ids(labels)\n",
        "len(train_labels)"
      ],
      "execution_count": null,
      "outputs": [
        {
          "output_type": "execute_result",
          "data": {
            "text/plain": [
              "16000"
            ]
          },
          "metadata": {},
          "execution_count": 61
        }
      ]
    },
    {
      "cell_type": "markdown",
      "metadata": {
        "id": "c-v0Mnh8xIhP"
      },
      "source": [
        "## Creating the Model\n",
        "\n",
        "1. Creating the model\n",
        "2. Compiling the model"
      ]
    },
    {
      "cell_type": "code",
      "metadata": {
        "id": "OpewXxPQ5eji"
      },
      "source": [
        "model = tf.keras.models.Sequential([\n",
        "        tf.keras.layers.Embedding(10000,16,input_length = maxlen),     \n",
        "        tf.keras.layers.Bidirectional(tf.keras.layers.LSTM(20, return_sequences = True)),\n",
        "        tf.keras.layers.Bidirectional(tf.keras.layers.LSTM(20)), \n",
        "        tf.keras.layers.Dense(6, activation = 'softmax')\n",
        "])\n",
        "\n",
        "model.compile(\n",
        "    loss = 'sparse_categorical_crossentropy',\n",
        "    optimizer = 'adam',\n",
        "    metrics = ['accuracy']\n",
        ")\n"
      ],
      "execution_count": null,
      "outputs": []
    },
    {
      "cell_type": "code",
      "metadata": {
        "colab": {
          "base_uri": "https://localhost:8080/"
        },
        "id": "cX3Rg7pLmdqX",
        "outputId": "bdc00878-58e5-4f1c-aca5-4d4b162c6543"
      },
      "source": [
        "model.summary()"
      ],
      "execution_count": null,
      "outputs": [
        {
          "output_type": "stream",
          "name": "stdout",
          "text": [
            "Model: \"sequential_1\"\n",
            "_________________________________________________________________\n",
            " Layer (type)                Output Shape              Param #   \n",
            "=================================================================\n",
            " embedding_1 (Embedding)     (None, 50, 16)            160000    \n",
            "                                                                 \n",
            " bidirectional_2 (Bidirectio  (None, 50, 40)           5920      \n",
            " nal)                                                            \n",
            "                                                                 \n",
            " bidirectional_3 (Bidirectio  (None, 40)               9760      \n",
            " nal)                                                            \n",
            "                                                                 \n",
            " dense_1 (Dense)             (None, 6)                 246       \n",
            "                                                                 \n",
            "=================================================================\n",
            "Total params: 175,926\n",
            "Trainable params: 175,926\n",
            "Non-trainable params: 0\n",
            "_________________________________________________________________\n"
          ]
        }
      ]
    },
    {
      "cell_type": "markdown",
      "metadata": {
        "id": "1HST_CHjxIhR"
      },
      "source": [
        "## Training the Model\n",
        "\n",
        "1. Preparing a validation set\n",
        "2. Training the model"
      ]
    },
    {
      "cell_type": "code",
      "metadata": {
        "id": "xob7zbIXgwp7"
      },
      "source": [
        "val_tweets , val_labels = get_tweet(val)\n",
        "val_seq = get_sequences(tokenizer, val_tweets)\n",
        "val_labels = names_to_ids(val_labels)"
      ],
      "execution_count": null,
      "outputs": []
    },
    {
      "cell_type": "code",
      "metadata": {
        "id": "Ff7F3hCK5ejm",
        "colab": {
          "base_uri": "https://localhost:8080/"
        },
        "outputId": "2dbd7424-cf73-431c-81e4-ad4990c7c371"
      },
      "source": [
        "val_tweets[0], val_labels[0]"
      ],
      "execution_count": null,
      "outputs": [
        {
          "output_type": "execute_result",
          "data": {
            "text/plain": [
              "('im feeling quite sad and sorry for myself but ill snap out of it soon', 0)"
            ]
          },
          "metadata": {},
          "execution_count": 65
        }
      ]
    },
    {
      "cell_type": "code",
      "metadata": {
        "id": "hlMKaZ3H5ejr",
        "colab": {
          "base_uri": "https://localhost:8080/"
        },
        "outputId": "fc8e6271-0754-42d5-adb5-56b7da45156d"
      },
      "source": [
        "h = model.fit(\n",
        "    padded_train_seq, train_labels, \n",
        "    validation_data = (val_seq, val_labels),\n",
        "    epochs = 20,\n",
        "    callbacks = [tf.keras.callbacks.EarlyStopping(monitor = 'val_accuracy', patience =2)]\n",
        ")"
      ],
      "execution_count": 66,
      "outputs": [
        {
          "output_type": "stream",
          "name": "stdout",
          "text": [
            "Epoch 1/20\n",
            "500/500 [==============================] - 32s 53ms/step - loss: 1.2588 - accuracy: 0.4841 - val_loss: 0.7382 - val_accuracy: 0.7190\n",
            "Epoch 2/20\n",
            "500/500 [==============================] - 25s 49ms/step - loss: 0.5332 - accuracy: 0.7999 - val_loss: 0.5358 - val_accuracy: 0.8150\n",
            "Epoch 3/20\n",
            "500/500 [==============================] - 24s 49ms/step - loss: 0.3087 - accuracy: 0.9045 - val_loss: 0.4697 - val_accuracy: 0.8610\n",
            "Epoch 4/20\n",
            "500/500 [==============================] - 25s 49ms/step - loss: 0.1902 - accuracy: 0.9418 - val_loss: 0.3908 - val_accuracy: 0.8810\n",
            "Epoch 5/20\n",
            "500/500 [==============================] - 25s 50ms/step - loss: 0.1433 - accuracy: 0.9578 - val_loss: 0.3994 - val_accuracy: 0.8815\n",
            "Epoch 6/20\n",
            "500/500 [==============================] - 25s 51ms/step - loss: 0.1097 - accuracy: 0.9673 - val_loss: 0.4817 - val_accuracy: 0.8710\n",
            "Epoch 7/20\n",
            "500/500 [==============================] - 25s 50ms/step - loss: 0.0897 - accuracy: 0.9739 - val_loss: 0.4082 - val_accuracy: 0.8830\n",
            "Epoch 8/20\n",
            "500/500 [==============================] - 26s 51ms/step - loss: 0.0783 - accuracy: 0.9764 - val_loss: 0.4520 - val_accuracy: 0.8815\n",
            "Epoch 9/20\n",
            "500/500 [==============================] - 25s 50ms/step - loss: 0.0685 - accuracy: 0.9790 - val_loss: 0.4384 - val_accuracy: 0.8785\n"
          ]
        }
      ]
    },
    {
      "cell_type": "markdown",
      "metadata": {
        "id": "EdsJyMTLxIhX"
      },
      "source": [
        "## Evaluating the Model\n",
        "\n",
        "1. Visualizing training history\n",
        "2. Prepraring a test set\n",
        "3. A look at individual predictions on the test set\n",
        "4. A look at all predictions on the test set"
      ]
    },
    {
      "cell_type": "code",
      "metadata": {
        "id": "ENCfvXeLxIhX",
        "colab": {
          "base_uri": "https://localhost:8080/",
          "height": 392
        },
        "outputId": "76e7ba2c-473d-4ea4-b27c-2ed4bb76dcfa"
      },
      "source": [
        "show_history(h)"
      ],
      "execution_count": 67,
      "outputs": [
        {
          "output_type": "display_data",
          "data": {
            "image/png": "[encoded data removed]",
            "text/plain": [
              "<Figure size 1152x432 with 2 Axes>"
            ]
          },
          "metadata": {
            "needs_background": "light"
          }
        }
      ]
    },
    {
      "cell_type": "code",
      "metadata": {
        "id": "kWuzoz8uxIha"
      },
      "source": [
        "test_tweets, test_labels = get_tweet(test)\n",
        "test_seq = get_sequences(tokenizer, test_tweets)\n",
        "test_labels = names_to_ids(test_labels)"
      ],
      "execution_count": 68,
      "outputs": []
    },
    {
      "cell_type": "code",
      "metadata": {
        "id": "7vRVJ_2SxIhc",
        "colab": {
          "base_uri": "https://localhost:8080/"
        },
        "outputId": "ef4c7beb-2ed9-451e-f39c-81de940193d1"
      },
      "source": [
        "_ = model.evaluate(test_seq , test_labels)"
      ],
      "execution_count": 69,
      "outputs": [
        {
          "output_type": "stream",
          "name": "stdout",
          "text": [
            "63/63 [==============================] - 1s 14ms/step - loss: 0.4212 - accuracy: 0.8775\n"
          ]
        }
      ]
    },
    {
      "cell_type": "code",
      "metadata": {
        "id": "rh638vHG5ej6",
        "colab": {
          "base_uri": "https://localhost:8080/"
        },
        "outputId": "10c95eb1-fd02-4483-badf-9b283d96ad2f"
      },
      "source": [
        "i = random.randint(0, len(test_labels) - 1)\n",
        "print('Sentence:', test_tweets[i])\n",
        "print('Emotion:', index_to_class[test_labels[i]])\n",
        "\n",
        "p = model.predict(np.expand_dims(test_seq[i], axis = 0))[0]\n",
        "pred_class = index_to_class[np.argmax(p).astype('uint8')]\n",
        "\n",
        "print('Predicted Emotion:', pred_class)"
      ],
      "execution_count": 74,
      "outputs": [
        {
          "output_type": "stream",
          "name": "stdout",
          "text": [
            "Sentence: i feel thrilled that by the end of the month this round will be completed and i can begin to recover\n",
            "Emotion: joy\n",
            "Predicted Emotion: joy\n"
          ]
        }
      ]
    },
    {
      "cell_type": "code",
      "metadata": {
        "id": "hHl5SVCFxIhh"
      },
      "source": [
        "pred = np.argmax(model.predict(test_seq), axis= -1)"
      ],
      "execution_count": 77,
      "outputs": []
    },
    {
      "cell_type": "code",
      "metadata": {
        "id": "NC8YQ0OexIhj",
        "colab": {
          "base_uri": "https://localhost:8080/",
          "height": 472
        },
        "outputId": "043f97f7-e62c-473b-fdda-eed20fc5f140"
      },
      "source": [
        "show_confusion_matrix(test_labels, pred, list(classes))"
      ],
      "execution_count": 79,
      "outputs": [
        {
          "output_type": "display_data",
          "data": {
            "image/png": "[encoded data removed]",
            "text/plain": [
              "<Figure size 576x576 with 2 Axes>"
            ]
          },
          "metadata": {
            "needs_background": "light"
          }
        }
      ]
    },
    {
      "cell_type": "code",
      "metadata": {
        "id": "bmBPYpFnyREH"
      },
      "source": [
        ""
      ],
      "execution_count": null,
      "outputs": []
    }
  ]
}